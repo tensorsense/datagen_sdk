{
 "cells": [
  {
   "cell_type": "markdown",
   "metadata": {},
   "source": [
    "# Data Generation SDK Example usage\n",
    "\n",
    "We are going to generate a dataset of squat videos with instructions to train an LLM."
   ]
  },
  {
   "cell_type": "code",
   "execution_count": 1,
   "metadata": {},
   "outputs": [],
   "source": [
    "import datagen\n",
    "from datagen.core.config import DatagenConfig\n",
    "config = DatagenConfig.from_yaml('./config.yaml')"
   ]
  },
  {
   "cell_type": "markdown",
   "metadata": {},
   "source": [
    "## Get a list of search queries to use"
   ]
  },
  {
   "cell_type": "code",
   "execution_count": 3,
   "metadata": {},
   "outputs": [
    {
     "name": "stdout",
     "output_type": "stream",
     "text": [
      "5\n"
     ]
    },
    {
     "data": {
      "text/plain": [
       "['how to do squats',\n",
       " 'squat exercises for beginners',\n",
       " 'proper squat form',\n",
       " 'squat variations',\n",
       " 'how to squat correctly']"
      ]
     },
     "execution_count": 3,
     "metadata": {},
     "output_type": "execute_result"
    }
   ],
   "source": [
    "from datagen.search import get_queries, get_video_info\n",
    "queries = get_queries(config=config, prompt='I want to find instructional videos about how to do squats.', num_queries=5)\n",
    "print(len(queries))\n",
    "queries"
   ]
  },
  {
   "cell_type": "markdown",
   "metadata": {},
   "source": [
    "## Download video information for each query.\n",
    "\n",
    "There is a lot of useful information to filter the videos at this stage if necessary, but we will only use video ids later.<br>\n",
    "Videos will be deduplicated so we don't need to download the same video multiple times."
   ]
  },
  {
   "cell_type": "code",
   "execution_count": 4,
   "metadata": {},
   "outputs": [
    {
     "name": "stderr",
     "output_type": "stream",
     "text": [
      "  0%|          | 0/5 [00:00<?, ?it/s]"
     ]
    },
    {
     "name": "stdout",
     "output_type": "stream",
     "text": [
      "[youtube:search] Extracting URL: ytsearch10:how to do squats\n",
      "[download] Downloading playlist: how to do squats\n",
      "[youtube:search] query \"how to do squats\": Downloading web client config\n",
      "[youtube:search] query \"how to do squats\" page 1: Downloading API JSON\n",
      "[youtube:search] Playlist how to do squats: Downloading 10 items of 10\n",
      "[download] Downloading item 1 of 10\n",
      "[youtube] Extracting URL: https://www.youtube.com/watch?v=IB_icWRzi4E\n",
      "[youtube] IB_icWRzi4E: Downloading webpage\n",
      "[youtube] IB_icWRzi4E: Downloading ios player API JSON\n",
      "[youtube] IB_icWRzi4E: Downloading android player API JSON\n",
      "[youtube] IB_icWRzi4E: Downloading m3u8 information\n"
     ]
    },
    {
     "name": "stderr",
     "output_type": "stream",
     "text": [
      "WARNING: [youtube] Failed to download m3u8 information: HTTP Error 429: Too Many Requests\n"
     ]
    },
    {
     "name": "stdout",
     "output_type": "stream",
     "text": [
      "[download] Downloading item 2 of 10\n",
      "[youtube] Extracting URL: https://www.youtube.com/shorts/gslEzVggur8\n",
      "[youtube] gslEzVggur8: Downloading webpage\n",
      "[youtube] gslEzVggur8: Downloading ios player API JSON\n",
      "[youtube] gslEzVggur8: Downloading android player API JSON\n",
      "[youtube] gslEzVggur8: Downloading m3u8 information\n"
     ]
    },
    {
     "name": "stderr",
     "output_type": "stream",
     "text": [
      "WARNING: [youtube] Failed to download m3u8 information: HTTP Error 429: Too Many Requests\n"
     ]
    },
    {
     "name": "stdout",
     "output_type": "stream",
     "text": [
      "[download] Downloading item 3 of 10\n",
      "[youtube] Extracting URL: https://www.youtube.com/shorts/PPmvh7gBTi0\n",
      "[youtube] PPmvh7gBTi0: Downloading webpage\n",
      "[youtube] PPmvh7gBTi0: Downloading ios player API JSON\n",
      "[youtube] PPmvh7gBTi0: Downloading android player API JSON\n",
      "[youtube] PPmvh7gBTi0: Downloading m3u8 information\n"
     ]
    },
    {
     "name": "stderr",
     "output_type": "stream",
     "text": [
      "WARNING: [youtube] Failed to download m3u8 information: HTTP Error 429: Too Many Requests\n"
     ]
    },
    {
     "name": "stdout",
     "output_type": "stream",
     "text": [
      "[download] Downloading item 4 of 10\n",
      "[youtube] Extracting URL: https://www.youtube.com/shorts/HgDZlNQrifY\n",
      "[youtube] HgDZlNQrifY: Downloading webpage\n",
      "[youtube] HgDZlNQrifY: Downloading ios player API JSON\n",
      "[youtube] HgDZlNQrifY: Downloading android player API JSON\n",
      "[youtube] HgDZlNQrifY: Downloading m3u8 information\n"
     ]
    },
    {
     "name": "stderr",
     "output_type": "stream",
     "text": [
      "WARNING: [youtube] Failed to download m3u8 information: HTTP Error 429: Too Many Requests\n"
     ]
    },
    {
     "name": "stdout",
     "output_type": "stream",
     "text": [
      "[download] Downloading item 5 of 10\n",
      "[youtube] Extracting URL: https://www.youtube.com/shorts/AIZ8q1qruKw\n",
      "[youtube] AIZ8q1qruKw: Downloading webpage\n",
      "[youtube] AIZ8q1qruKw: Downloading ios player API JSON\n",
      "[youtube] AIZ8q1qruKw: Downloading android player API JSON\n",
      "[youtube] AIZ8q1qruKw: Downloading m3u8 information\n"
     ]
    },
    {
     "name": "stderr",
     "output_type": "stream",
     "text": [
      "WARNING: [youtube] Failed to download m3u8 information: HTTP Error 429: Too Many Requests\n"
     ]
    },
    {
     "name": "stdout",
     "output_type": "stream",
     "text": [
      "[download] Downloading item 6 of 10\n",
      "[youtube] Extracting URL: https://www.youtube.com/shorts/cRxg-PUAT6I\n",
      "[youtube] cRxg-PUAT6I: Downloading webpage\n",
      "[youtube] cRxg-PUAT6I: Downloading ios player API JSON\n",
      "[youtube] cRxg-PUAT6I: Downloading android player API JSON\n",
      "[youtube] cRxg-PUAT6I: Downloading m3u8 information\n"
     ]
    },
    {
     "name": "stderr",
     "output_type": "stream",
     "text": [
      "WARNING: [youtube] Failed to download m3u8 information: HTTP Error 429: Too Many Requests\n"
     ]
    },
    {
     "name": "stdout",
     "output_type": "stream",
     "text": [
      "[download] Downloading item 7 of 10\n",
      "[youtube] Extracting URL: https://www.youtube.com/shorts/SLOkdLLWj8A\n",
      "[youtube] SLOkdLLWj8A: Downloading webpage\n",
      "[youtube] SLOkdLLWj8A: Downloading ios player API JSON\n",
      "[youtube] SLOkdLLWj8A: Downloading android player API JSON\n",
      "[youtube] SLOkdLLWj8A: Downloading m3u8 information\n"
     ]
    },
    {
     "name": "stderr",
     "output_type": "stream",
     "text": [
      "WARNING: [youtube] Failed to download m3u8 information: HTTP Error 429: Too Many Requests\n"
     ]
    },
    {
     "name": "stdout",
     "output_type": "stream",
     "text": [
      "[download] Downloading item 8 of 10\n",
      "[youtube] Extracting URL: https://www.youtube.com/shorts/TH6jSCGnowI\n",
      "[youtube] TH6jSCGnowI: Downloading webpage\n",
      "[youtube] TH6jSCGnowI: Downloading ios player API JSON\n",
      "[youtube] TH6jSCGnowI: Downloading android player API JSON\n",
      "[youtube] TH6jSCGnowI: Downloading m3u8 information\n"
     ]
    },
    {
     "name": "stderr",
     "output_type": "stream",
     "text": [
      "WARNING: [youtube] Failed to download m3u8 information: HTTP Error 429: Too Many Requests\n"
     ]
    },
    {
     "name": "stdout",
     "output_type": "stream",
     "text": [
      "[download] Downloading item 9 of 10\n",
      "[youtube] Extracting URL: https://www.youtube.com/shorts/iZTxa8NJH2g\n",
      "[youtube] iZTxa8NJH2g: Downloading webpage\n",
      "[youtube] iZTxa8NJH2g: Downloading ios player API JSON\n",
      "[youtube] iZTxa8NJH2g: Downloading android player API JSON\n",
      "[youtube] iZTxa8NJH2g: Downloading m3u8 information\n"
     ]
    },
    {
     "name": "stderr",
     "output_type": "stream",
     "text": [
      "WARNING: [youtube] Failed to download m3u8 information: HTTP Error 429: Too Many Requests\n"
     ]
    },
    {
     "name": "stdout",
     "output_type": "stream",
     "text": [
      "[download] Downloading item 10 of 10\n",
      "[youtube] Extracting URL: https://www.youtube.com/shorts/MLoZuAkIyZI\n",
      "[youtube] MLoZuAkIyZI: Downloading webpage\n",
      "[youtube] MLoZuAkIyZI: Downloading ios player API JSON\n",
      "[youtube] MLoZuAkIyZI: Downloading android player API JSON\n",
      "[youtube] MLoZuAkIyZI: Downloading m3u8 information\n"
     ]
    },
    {
     "name": "stderr",
     "output_type": "stream",
     "text": [
      "WARNING: [youtube] Failed to download m3u8 information: HTTP Error 429: Too Many Requests\n"
     ]
    },
    {
     "name": "stdout",
     "output_type": "stream",
     "text": [
      "[download] Finished downloading playlist: how to do squats\n"
     ]
    },
    {
     "name": "stderr",
     "output_type": "stream",
     "text": [
      " 20%|██        | 1/5 [00:30<02:00, 30.01s/it]"
     ]
    },
    {
     "name": "stdout",
     "output_type": "stream",
     "text": [
      "[youtube:search] Extracting URL: ytsearch10:squat exercises for beginners\n",
      "[download] Downloading playlist: squat exercises for beginners\n",
      "[youtube:search] query \"squat exercises for beginners\": Downloading web client config\n",
      "[youtube:search] query \"squat exercises for beginners\" page 1: Downloading API JSON\n",
      "[youtube:search] Playlist squat exercises for beginners: Downloading 10 items of 10\n",
      "[download] Downloading item 1 of 10\n",
      "[youtube] Extracting URL: https://www.youtube.com/watch?v=4KmY44Xsg2w\n",
      "[youtube] 4KmY44Xsg2w: Downloading webpage\n",
      "[youtube] 4KmY44Xsg2w: Downloading ios player API JSON\n",
      "[youtube] 4KmY44Xsg2w: Downloading android player API JSON\n",
      "[youtube] 4KmY44Xsg2w: Downloading m3u8 information\n"
     ]
    },
    {
     "name": "stderr",
     "output_type": "stream",
     "text": [
      "WARNING: [youtube] Failed to download m3u8 information: HTTP Error 429: Too Many Requests\n"
     ]
    },
    {
     "name": "stdout",
     "output_type": "stream",
     "text": [
      "[download] Downloading item 2 of 10\n",
      "[youtube] Extracting URL: https://www.youtube.com/watch?v=EbOPpWi4L8s\n",
      "[youtube] EbOPpWi4L8s: Downloading webpage\n",
      "[youtube] EbOPpWi4L8s: Downloading ios player API JSON\n",
      "[youtube] EbOPpWi4L8s: Downloading android player API JSON\n",
      "[youtube] EbOPpWi4L8s: Downloading m3u8 information\n"
     ]
    },
    {
     "name": "stderr",
     "output_type": "stream",
     "text": [
      "WARNING: [youtube] Failed to download m3u8 information: HTTP Error 429: Too Many Requests\n"
     ]
    },
    {
     "name": "stdout",
     "output_type": "stream",
     "text": [
      "[download] Downloading item 3 of 10\n",
      "[youtube] Extracting URL: https://www.youtube.com/shorts/gslEzVggur8\n",
      "[youtube] gslEzVggur8: Downloading webpage\n",
      "[youtube] gslEzVggur8: Downloading ios player API JSON\n",
      "[youtube] gslEzVggur8: Downloading android player API JSON\n",
      "[youtube] gslEzVggur8: Downloading m3u8 information\n"
     ]
    },
    {
     "name": "stderr",
     "output_type": "stream",
     "text": [
      "WARNING: [youtube] Failed to download m3u8 information: HTTP Error 429: Too Many Requests\n"
     ]
    },
    {
     "name": "stdout",
     "output_type": "stream",
     "text": [
      "[download] Downloading item 4 of 10\n",
      "[youtube] Extracting URL: https://www.youtube.com/shorts/cRxg-PUAT6I\n",
      "[youtube] cRxg-PUAT6I: Downloading webpage\n",
      "[youtube] cRxg-PUAT6I: Downloading ios player API JSON\n",
      "[youtube] cRxg-PUAT6I: Downloading android player API JSON\n",
      "[youtube] cRxg-PUAT6I: Downloading m3u8 information\n"
     ]
    },
    {
     "name": "stderr",
     "output_type": "stream",
     "text": [
      "WARNING: [youtube] Failed to download m3u8 information: HTTP Error 429: Too Many Requests\n"
     ]
    },
    {
     "name": "stdout",
     "output_type": "stream",
     "text": [
      "[download] Downloading item 5 of 10\n",
      "[youtube] Extracting URL: https://www.youtube.com/shorts/HgDZlNQrifY\n",
      "[youtube] HgDZlNQrifY: Downloading webpage\n",
      "[youtube] HgDZlNQrifY: Downloading ios player API JSON\n",
      "[youtube] HgDZlNQrifY: Downloading android player API JSON\n",
      "[youtube] HgDZlNQrifY: Downloading m3u8 information\n"
     ]
    },
    {
     "name": "stderr",
     "output_type": "stream",
     "text": [
      "WARNING: [youtube] Failed to download m3u8 information: HTTP Error 429: Too Many Requests\n"
     ]
    },
    {
     "name": "stdout",
     "output_type": "stream",
     "text": [
      "[download] Downloading item 6 of 10\n",
      "[youtube] Extracting URL: https://www.youtube.com/shorts/iZTxa8NJH2g\n",
      "[youtube] iZTxa8NJH2g: Downloading webpage\n",
      "[youtube] iZTxa8NJH2g: Downloading ios player API JSON\n",
      "[youtube] iZTxa8NJH2g: Downloading android player API JSON\n",
      "[youtube] iZTxa8NJH2g: Downloading m3u8 information\n"
     ]
    },
    {
     "name": "stderr",
     "output_type": "stream",
     "text": [
      "WARNING: [youtube] Failed to download m3u8 information: HTTP Error 429: Too Many Requests\n"
     ]
    },
    {
     "name": "stdout",
     "output_type": "stream",
     "text": [
      "[download] Downloading item 7 of 10\n",
      "[youtube] Extracting URL: https://www.youtube.com/shorts/w8ZhgecdIAM\n",
      "[youtube] w8ZhgecdIAM: Downloading webpage\n",
      "[youtube] w8ZhgecdIAM: Downloading ios player API JSON\n",
      "[youtube] w8ZhgecdIAM: Downloading android player API JSON\n",
      "[youtube] w8ZhgecdIAM: Downloading m3u8 information\n"
     ]
    },
    {
     "name": "stderr",
     "output_type": "stream",
     "text": [
      "WARNING: [youtube] Failed to download m3u8 information: HTTP Error 429: Too Many Requests\n"
     ]
    },
    {
     "name": "stdout",
     "output_type": "stream",
     "text": [
      "[download] Downloading item 8 of 10\n",
      "[youtube] Extracting URL: https://www.youtube.com/shorts/MLoZuAkIyZI\n",
      "[youtube] MLoZuAkIyZI: Downloading webpage\n",
      "[youtube] MLoZuAkIyZI: Downloading ios player API JSON\n",
      "[youtube] MLoZuAkIyZI: Downloading android player API JSON\n",
      "[youtube] MLoZuAkIyZI: Downloading m3u8 information\n"
     ]
    },
    {
     "name": "stderr",
     "output_type": "stream",
     "text": [
      "WARNING: [youtube] Failed to download m3u8 information: HTTP Error 429: Too Many Requests\n"
     ]
    },
    {
     "name": "stdout",
     "output_type": "stream",
     "text": [
      "[download] Downloading item 9 of 10\n",
      "[youtube] Extracting URL: https://www.youtube.com/shorts/OTyb4YUDYYY\n",
      "[youtube] OTyb4YUDYYY: Downloading webpage\n",
      "[youtube] OTyb4YUDYYY: Downloading ios player API JSON\n",
      "[youtube] OTyb4YUDYYY: Downloading android player API JSON\n",
      "[youtube] OTyb4YUDYYY: Downloading m3u8 information\n"
     ]
    },
    {
     "name": "stderr",
     "output_type": "stream",
     "text": [
      "WARNING: [youtube] Failed to download m3u8 information: HTTP Error 429: Too Many Requests\n"
     ]
    },
    {
     "name": "stdout",
     "output_type": "stream",
     "text": [
      "[download] Downloading item 10 of 10\n",
      "[youtube] Extracting URL: https://www.youtube.com/shorts/T6id8FuUcao\n",
      "[youtube] T6id8FuUcao: Downloading webpage\n",
      "[youtube] T6id8FuUcao: Downloading ios player API JSON\n",
      "[youtube] T6id8FuUcao: Downloading android player API JSON\n",
      "[youtube] T6id8FuUcao: Downloading m3u8 information\n"
     ]
    },
    {
     "name": "stderr",
     "output_type": "stream",
     "text": [
      "WARNING: [youtube] Failed to download m3u8 information: HTTP Error 429: Too Many Requests\n"
     ]
    },
    {
     "name": "stdout",
     "output_type": "stream",
     "text": [
      "[download] Finished downloading playlist: squat exercises for beginners\n"
     ]
    },
    {
     "name": "stderr",
     "output_type": "stream",
     "text": [
      " 40%|████      | 2/5 [00:58<01:28, 29.34s/it]"
     ]
    },
    {
     "name": "stdout",
     "output_type": "stream",
     "text": [
      "[youtube:search] Extracting URL: ytsearch10:proper squat form\n",
      "[download] Downloading playlist: proper squat form\n",
      "[youtube:search] query \"proper squat form\": Downloading web client config\n",
      "[youtube:search] query \"proper squat form\" page 1: Downloading API JSON\n",
      "[youtube:search] Playlist proper squat form: Downloading 10 items of 10\n",
      "[download] Downloading item 1 of 10\n",
      "[youtube] Extracting URL: https://www.youtube.com/watch?v=byxWus7BwfQ\n",
      "[youtube] byxWus7BwfQ: Downloading webpage\n",
      "[youtube] byxWus7BwfQ: Downloading ios player API JSON\n",
      "[youtube] byxWus7BwfQ: Downloading android player API JSON\n",
      "[youtube] byxWus7BwfQ: Downloading m3u8 information\n"
     ]
    },
    {
     "name": "stderr",
     "output_type": "stream",
     "text": [
      "WARNING: [youtube] Failed to download m3u8 information: HTTP Error 429: Too Many Requests\n"
     ]
    },
    {
     "name": "stdout",
     "output_type": "stream",
     "text": [
      "[download] Downloading item 2 of 10\n",
      "[youtube] Extracting URL: https://www.youtube.com/shorts/gslEzVggur8\n",
      "[youtube] gslEzVggur8: Downloading webpage\n",
      "[youtube] gslEzVggur8: Downloading ios player API JSON\n",
      "[youtube] gslEzVggur8: Downloading android player API JSON\n",
      "[youtube] gslEzVggur8: Downloading m3u8 information\n"
     ]
    },
    {
     "name": "stderr",
     "output_type": "stream",
     "text": [
      "WARNING: [youtube] Failed to download m3u8 information: HTTP Error 429: Too Many Requests\n"
     ]
    },
    {
     "name": "stdout",
     "output_type": "stream",
     "text": [
      "[download] Downloading item 3 of 10\n",
      "[youtube] Extracting URL: https://www.youtube.com/shorts/PPmvh7gBTi0\n",
      "[youtube] PPmvh7gBTi0: Downloading webpage\n",
      "[youtube] PPmvh7gBTi0: Downloading ios player API JSON\n",
      "[youtube] PPmvh7gBTi0: Downloading android player API JSON\n",
      "[youtube] PPmvh7gBTi0: Downloading m3u8 information\n"
     ]
    },
    {
     "name": "stderr",
     "output_type": "stream",
     "text": [
      "WARNING: [youtube] Failed to download m3u8 information: HTTP Error 429: Too Many Requests\n"
     ]
    },
    {
     "name": "stdout",
     "output_type": "stream",
     "text": [
      "[download] Downloading item 4 of 10\n",
      "[youtube] Extracting URL: https://www.youtube.com/shorts/iZTxa8NJH2g\n",
      "[youtube] iZTxa8NJH2g: Downloading webpage\n",
      "[youtube] iZTxa8NJH2g: Downloading ios player API JSON\n",
      "[youtube] iZTxa8NJH2g: Downloading android player API JSON\n",
      "[youtube] iZTxa8NJH2g: Downloading m3u8 information\n"
     ]
    },
    {
     "name": "stderr",
     "output_type": "stream",
     "text": [
      "WARNING: [youtube] Failed to download m3u8 information: HTTP Error 429: Too Many Requests\n"
     ]
    },
    {
     "name": "stdout",
     "output_type": "stream",
     "text": [
      "[download] Downloading item 5 of 10\n",
      "[youtube] Extracting URL: https://www.youtube.com/shorts/HgDZlNQrifY\n",
      "[youtube] HgDZlNQrifY: Downloading webpage\n",
      "[youtube] HgDZlNQrifY: Downloading ios player API JSON\n",
      "[youtube] HgDZlNQrifY: Downloading android player API JSON\n",
      "[youtube] HgDZlNQrifY: Downloading m3u8 information\n"
     ]
    },
    {
     "name": "stderr",
     "output_type": "stream",
     "text": [
      "WARNING: [youtube] Failed to download m3u8 information: HTTP Error 429: Too Many Requests\n"
     ]
    },
    {
     "name": "stdout",
     "output_type": "stream",
     "text": [
      "[download] Downloading item 6 of 10\n",
      "[youtube] Extracting URL: https://www.youtube.com/shorts/EzvnMZuxGWw\n",
      "[youtube] EzvnMZuxGWw: Downloading webpage\n",
      "[youtube] EzvnMZuxGWw: Downloading ios player API JSON\n",
      "[youtube] EzvnMZuxGWw: Downloading android player API JSON\n",
      "[youtube] EzvnMZuxGWw: Downloading m3u8 information\n"
     ]
    },
    {
     "name": "stderr",
     "output_type": "stream",
     "text": [
      "WARNING: [youtube] Failed to download m3u8 information: HTTP Error 429: Too Many Requests\n"
     ]
    },
    {
     "name": "stdout",
     "output_type": "stream",
     "text": [
      "[download] Downloading item 7 of 10\n",
      "[youtube] Extracting URL: https://www.youtube.com/shorts/MM9ObaAPcv4\n",
      "[youtube] MM9ObaAPcv4: Downloading webpage\n",
      "[youtube] MM9ObaAPcv4: Downloading ios player API JSON\n",
      "[youtube] MM9ObaAPcv4: Downloading android player API JSON\n",
      "[youtube] MM9ObaAPcv4: Downloading m3u8 information\n"
     ]
    },
    {
     "name": "stderr",
     "output_type": "stream",
     "text": [
      "WARNING: [youtube] Failed to download m3u8 information: HTTP Error 429: Too Many Requests\n"
     ]
    },
    {
     "name": "stdout",
     "output_type": "stream",
     "text": [
      "[download] Downloading item 8 of 10\n",
      "[youtube] Extracting URL: https://www.youtube.com/shorts/cRxg-PUAT6I\n",
      "[youtube] cRxg-PUAT6I: Downloading webpage\n",
      "[youtube] cRxg-PUAT6I: Downloading ios player API JSON\n",
      "[youtube] cRxg-PUAT6I: Downloading android player API JSON\n",
      "[youtube] cRxg-PUAT6I: Downloading m3u8 information\n"
     ]
    },
    {
     "name": "stderr",
     "output_type": "stream",
     "text": [
      "WARNING: [youtube] Failed to download m3u8 information: HTTP Error 429: Too Many Requests\n"
     ]
    },
    {
     "name": "stdout",
     "output_type": "stream",
     "text": [
      "[download] Downloading item 9 of 10\n",
      "[youtube] Extracting URL: https://www.youtube.com/shorts/MLoZuAkIyZI\n",
      "[youtube] MLoZuAkIyZI: Downloading webpage\n",
      "[youtube] MLoZuAkIyZI: Downloading ios player API JSON\n",
      "[youtube] MLoZuAkIyZI: Downloading android player API JSON\n",
      "[youtube] MLoZuAkIyZI: Downloading m3u8 information\n"
     ]
    },
    {
     "name": "stderr",
     "output_type": "stream",
     "text": [
      "WARNING: [youtube] Failed to download m3u8 information: HTTP Error 429: Too Many Requests\n"
     ]
    },
    {
     "name": "stdout",
     "output_type": "stream",
     "text": [
      "[download] Downloading item 10 of 10\n",
      "[youtube] Extracting URL: https://www.youtube.com/shorts/TH6jSCGnowI\n",
      "[youtube] TH6jSCGnowI: Downloading webpage\n",
      "[youtube] TH6jSCGnowI: Downloading ios player API JSON\n",
      "[youtube] TH6jSCGnowI: Downloading android player API JSON\n",
      "[youtube] TH6jSCGnowI: Downloading m3u8 information\n"
     ]
    },
    {
     "name": "stderr",
     "output_type": "stream",
     "text": [
      "WARNING: [youtube] Failed to download m3u8 information: HTTP Error 429: Too Many Requests\n"
     ]
    },
    {
     "name": "stdout",
     "output_type": "stream",
     "text": [
      "[download] Finished downloading playlist: proper squat form\n"
     ]
    },
    {
     "name": "stderr",
     "output_type": "stream",
     "text": [
      " 60%|██████    | 3/5 [01:29<01:00, 30.08s/it]"
     ]
    },
    {
     "name": "stdout",
     "output_type": "stream",
     "text": [
      "[youtube:search] Extracting URL: ytsearch10:squat variations\n",
      "[download] Downloading playlist: squat variations\n",
      "[youtube:search] query \"squat variations\": Downloading web client config\n",
      "[youtube:search] query \"squat variations\" page 1: Downloading API JSON\n",
      "[youtube:search] Playlist squat variations: Downloading 10 items of 10\n",
      "[download] Downloading item 1 of 10\n",
      "[youtube] Extracting URL: https://www.youtube.com/watch?v=C73Y3EsJWIk\n",
      "[youtube] C73Y3EsJWIk: Downloading webpage\n",
      "[youtube] C73Y3EsJWIk: Downloading ios player API JSON\n",
      "[youtube] C73Y3EsJWIk: Downloading android player API JSON\n",
      "[youtube] C73Y3EsJWIk: Downloading m3u8 information\n"
     ]
    },
    {
     "name": "stderr",
     "output_type": "stream",
     "text": [
      "WARNING: [youtube] Failed to download m3u8 information: HTTP Error 429: Too Many Requests\n"
     ]
    },
    {
     "name": "stdout",
     "output_type": "stream",
     "text": [
      "[download] Downloading item 2 of 10\n",
      "[youtube] Extracting URL: https://www.youtube.com/shorts/LF4zb2SYWjQ\n",
      "[youtube] LF4zb2SYWjQ: Downloading webpage\n",
      "[youtube] LF4zb2SYWjQ: Downloading ios player API JSON\n",
      "[youtube] LF4zb2SYWjQ: Downloading android player API JSON\n",
      "[youtube] LF4zb2SYWjQ: Downloading m3u8 information\n"
     ]
    },
    {
     "name": "stderr",
     "output_type": "stream",
     "text": [
      "WARNING: [youtube] Failed to download m3u8 information: HTTP Error 429: Too Many Requests\n"
     ]
    },
    {
     "name": "stdout",
     "output_type": "stream",
     "text": [
      "[download] Downloading item 3 of 10\n",
      "[youtube] Extracting URL: https://www.youtube.com/shorts/LFkinX12jtU\n",
      "[youtube] LFkinX12jtU: Downloading webpage\n",
      "[youtube] LFkinX12jtU: Downloading ios player API JSON\n",
      "[youtube] LFkinX12jtU: Downloading android player API JSON\n",
      "[youtube] LFkinX12jtU: Downloading m3u8 information\n"
     ]
    },
    {
     "name": "stderr",
     "output_type": "stream",
     "text": [
      "WARNING: [youtube] Failed to download m3u8 information: HTTP Error 429: Too Many Requests\n"
     ]
    },
    {
     "name": "stdout",
     "output_type": "stream",
     "text": [
      "[download] Downloading item 4 of 10\n",
      "[youtube] Extracting URL: https://www.youtube.com/shorts/PPmvh7gBTi0\n",
      "[youtube] PPmvh7gBTi0: Downloading webpage\n",
      "[youtube] PPmvh7gBTi0: Downloading ios player API JSON\n",
      "[youtube] PPmvh7gBTi0: Downloading android player API JSON\n",
      "[youtube] PPmvh7gBTi0: Downloading m3u8 information\n"
     ]
    },
    {
     "name": "stderr",
     "output_type": "stream",
     "text": [
      "WARNING: [youtube] Failed to download m3u8 information: HTTP Error 429: Too Many Requests\n"
     ]
    },
    {
     "name": "stdout",
     "output_type": "stream",
     "text": [
      "[download] Downloading item 5 of 10\n",
      "[youtube] Extracting URL: https://www.youtube.com/shorts/MLoZuAkIyZI\n",
      "[youtube] MLoZuAkIyZI: Downloading webpage\n",
      "[youtube] MLoZuAkIyZI: Downloading ios player API JSON\n",
      "[youtube] MLoZuAkIyZI: Downloading android player API JSON\n",
      "[youtube] MLoZuAkIyZI: Downloading m3u8 information\n"
     ]
    },
    {
     "name": "stderr",
     "output_type": "stream",
     "text": [
      "WARNING: [youtube] Failed to download m3u8 information: HTTP Error 429: Too Many Requests\n"
     ]
    },
    {
     "name": "stdout",
     "output_type": "stream",
     "text": [
      "[download] Downloading item 6 of 10\n",
      "[youtube] Extracting URL: https://www.youtube.com/shorts/a3aw-5vDM2E\n",
      "[youtube] a3aw-5vDM2E: Downloading webpage\n",
      "[youtube] a3aw-5vDM2E: Downloading ios player API JSON\n",
      "[youtube] a3aw-5vDM2E: Downloading android player API JSON\n",
      "[youtube] a3aw-5vDM2E: Downloading m3u8 information\n"
     ]
    },
    {
     "name": "stderr",
     "output_type": "stream",
     "text": [
      "WARNING: [youtube] Failed to download m3u8 information: HTTP Error 429: Too Many Requests\n"
     ]
    },
    {
     "name": "stdout",
     "output_type": "stream",
     "text": [
      "[download] Downloading item 7 of 10\n",
      "[youtube] Extracting URL: https://www.youtube.com/shorts/PJj5shV4uYo\n",
      "[youtube] PJj5shV4uYo: Downloading webpage\n",
      "[youtube] PJj5shV4uYo: Downloading ios player API JSON\n",
      "[youtube] PJj5shV4uYo: Downloading android player API JSON\n",
      "[youtube] PJj5shV4uYo: Downloading m3u8 information\n"
     ]
    },
    {
     "name": "stderr",
     "output_type": "stream",
     "text": [
      "WARNING: [youtube] Failed to download m3u8 information: HTTP Error 429: Too Many Requests\n"
     ]
    },
    {
     "name": "stdout",
     "output_type": "stream",
     "text": [
      "[download] Downloading item 8 of 10\n",
      "[youtube] Extracting URL: https://www.youtube.com/shorts/xawAf5fXD2c\n",
      "[youtube] xawAf5fXD2c: Downloading webpage\n",
      "[youtube] xawAf5fXD2c: Downloading ios player API JSON\n",
      "[youtube] xawAf5fXD2c: Downloading android player API JSON\n",
      "[youtube] xawAf5fXD2c: Downloading m3u8 information\n"
     ]
    },
    {
     "name": "stderr",
     "output_type": "stream",
     "text": [
      "WARNING: [youtube] Failed to download m3u8 information: HTTP Error 429: Too Many Requests\n"
     ]
    },
    {
     "name": "stdout",
     "output_type": "stream",
     "text": [
      "[download] Downloading item 9 of 10\n",
      "[youtube] Extracting URL: https://www.youtube.com/shorts/jhb_nnV29EU\n",
      "[youtube] jhb_nnV29EU: Downloading webpage\n",
      "[youtube] jhb_nnV29EU: Downloading ios player API JSON\n",
      "[youtube] jhb_nnV29EU: Downloading android player API JSON\n",
      "[youtube] jhb_nnV29EU: Downloading m3u8 information\n"
     ]
    },
    {
     "name": "stderr",
     "output_type": "stream",
     "text": [
      "WARNING: [youtube] Failed to download m3u8 information: HTTP Error 429: Too Many Requests\n"
     ]
    },
    {
     "name": "stdout",
     "output_type": "stream",
     "text": [
      "[download] Downloading item 10 of 10\n",
      "[youtube] Extracting URL: https://www.youtube.com/shorts/EzvnMZuxGWw\n",
      "[youtube] EzvnMZuxGWw: Downloading webpage\n",
      "[youtube] EzvnMZuxGWw: Downloading ios player API JSON\n",
      "[youtube] EzvnMZuxGWw: Downloading android player API JSON\n",
      "[youtube] EzvnMZuxGWw: Downloading m3u8 information\n"
     ]
    },
    {
     "name": "stderr",
     "output_type": "stream",
     "text": [
      "WARNING: [youtube] Failed to download m3u8 information: HTTP Error 429: Too Many Requests\n"
     ]
    },
    {
     "name": "stdout",
     "output_type": "stream",
     "text": [
      "[download] Finished downloading playlist: squat variations\n"
     ]
    },
    {
     "name": "stderr",
     "output_type": "stream",
     "text": [
      " 80%|████████  | 4/5 [01:59<00:30, 30.07s/it]"
     ]
    },
    {
     "name": "stdout",
     "output_type": "stream",
     "text": [
      "[youtube:search] Extracting URL: ytsearch10:how to squat correctly\n",
      "[download] Downloading playlist: how to squat correctly\n",
      "[youtube:search] query \"how to squat correctly\": Downloading web client config\n",
      "[youtube:search] query \"how to squat correctly\" page 1: Downloading API JSON\n",
      "[youtube:search] Playlist how to squat correctly: Downloading 10 items of 10\n",
      "[download] Downloading item 1 of 10\n",
      "[youtube] Extracting URL: https://www.youtube.com/watch?v=byxWus7BwfQ\n",
      "[youtube] byxWus7BwfQ: Downloading webpage\n",
      "[youtube] byxWus7BwfQ: Downloading ios player API JSON\n",
      "[youtube] byxWus7BwfQ: Downloading android player API JSON\n",
      "[youtube] byxWus7BwfQ: Downloading m3u8 information\n"
     ]
    },
    {
     "name": "stderr",
     "output_type": "stream",
     "text": [
      "WARNING: [youtube] Failed to download m3u8 information: HTTP Error 429: Too Many Requests\n"
     ]
    },
    {
     "name": "stdout",
     "output_type": "stream",
     "text": [
      "[download] Downloading item 2 of 10\n",
      "[youtube] Extracting URL: https://www.youtube.com/watch?v=my0tLDaWyDU\n",
      "[youtube] my0tLDaWyDU: Downloading webpage\n",
      "[youtube] my0tLDaWyDU: Downloading ios player API JSON\n",
      "[youtube] my0tLDaWyDU: Downloading android player API JSON\n",
      "[youtube] my0tLDaWyDU: Downloading m3u8 information\n"
     ]
    },
    {
     "name": "stderr",
     "output_type": "stream",
     "text": [
      "WARNING: [youtube] Failed to download m3u8 information: HTTP Error 429: Too Many Requests\n"
     ]
    },
    {
     "name": "stdout",
     "output_type": "stream",
     "text": [
      "[download] Downloading item 3 of 10\n",
      "[youtube] Extracting URL: https://www.youtube.com/shorts/gslEzVggur8\n",
      "[youtube] gslEzVggur8: Downloading webpage\n",
      "[youtube] gslEzVggur8: Downloading ios player API JSON\n",
      "[youtube] gslEzVggur8: Downloading android player API JSON\n",
      "[youtube] gslEzVggur8: Downloading m3u8 information\n"
     ]
    },
    {
     "name": "stderr",
     "output_type": "stream",
     "text": [
      "WARNING: [youtube] Failed to download m3u8 information: HTTP Error 429: Too Many Requests\n"
     ]
    },
    {
     "name": "stdout",
     "output_type": "stream",
     "text": [
      "[download] Downloading item 4 of 10\n",
      "[youtube] Extracting URL: https://www.youtube.com/shorts/PPmvh7gBTi0\n",
      "[youtube] PPmvh7gBTi0: Downloading webpage\n",
      "[youtube] PPmvh7gBTi0: Downloading ios player API JSON\n",
      "[youtube] PPmvh7gBTi0: Downloading android player API JSON\n",
      "[youtube] PPmvh7gBTi0: Downloading m3u8 information\n"
     ]
    },
    {
     "name": "stderr",
     "output_type": "stream",
     "text": [
      "WARNING: [youtube] Failed to download m3u8 information: HTTP Error 429: Too Many Requests\n"
     ]
    },
    {
     "name": "stdout",
     "output_type": "stream",
     "text": [
      "[download] Downloading item 5 of 10\n",
      "[youtube] Extracting URL: https://www.youtube.com/shorts/HgDZlNQrifY\n",
      "[youtube] HgDZlNQrifY: Downloading webpage\n",
      "[youtube] HgDZlNQrifY: Downloading ios player API JSON\n",
      "[youtube] HgDZlNQrifY: Downloading android player API JSON\n",
      "[youtube] HgDZlNQrifY: Downloading m3u8 information\n"
     ]
    },
    {
     "name": "stderr",
     "output_type": "stream",
     "text": [
      "WARNING: [youtube] Failed to download m3u8 information: HTTP Error 429: Too Many Requests\n"
     ]
    },
    {
     "name": "stdout",
     "output_type": "stream",
     "text": [
      "[download] Downloading item 6 of 10\n",
      "[youtube] Extracting URL: https://www.youtube.com/shorts/iZTxa8NJH2g\n",
      "[youtube] iZTxa8NJH2g: Downloading webpage\n",
      "[youtube] iZTxa8NJH2g: Downloading ios player API JSON\n",
      "[youtube] iZTxa8NJH2g: Downloading android player API JSON\n",
      "[youtube] iZTxa8NJH2g: Downloading m3u8 information\n"
     ]
    },
    {
     "name": "stderr",
     "output_type": "stream",
     "text": [
      "WARNING: [youtube] Failed to download m3u8 information: HTTP Error 429: Too Many Requests\n"
     ]
    },
    {
     "name": "stdout",
     "output_type": "stream",
     "text": [
      "[download] Downloading item 7 of 10\n",
      "[youtube] Extracting URL: https://www.youtube.com/shorts/rhbIFJj4UYc\n",
      "[youtube] rhbIFJj4UYc: Downloading webpage\n",
      "[youtube] rhbIFJj4UYc: Downloading ios player API JSON\n",
      "[youtube] rhbIFJj4UYc: Downloading android player API JSON\n",
      "[youtube] rhbIFJj4UYc: Downloading m3u8 information\n"
     ]
    },
    {
     "name": "stderr",
     "output_type": "stream",
     "text": [
      "WARNING: [youtube] Failed to download m3u8 information: HTTP Error 429: Too Many Requests\n"
     ]
    },
    {
     "name": "stdout",
     "output_type": "stream",
     "text": [
      "[download] Downloading item 8 of 10\n",
      "[youtube] Extracting URL: https://www.youtube.com/shorts/SLOkdLLWj8A\n",
      "[youtube] SLOkdLLWj8A: Downloading webpage\n",
      "[youtube] SLOkdLLWj8A: Downloading ios player API JSON\n",
      "[youtube] SLOkdLLWj8A: Downloading android player API JSON\n",
      "[youtube] SLOkdLLWj8A: Downloading m3u8 information\n"
     ]
    },
    {
     "name": "stderr",
     "output_type": "stream",
     "text": [
      "WARNING: [youtube] Failed to download m3u8 information: HTTP Error 429: Too Many Requests\n"
     ]
    },
    {
     "name": "stdout",
     "output_type": "stream",
     "text": [
      "[download] Downloading item 9 of 10\n",
      "[youtube] Extracting URL: https://www.youtube.com/shorts/cRxg-PUAT6I\n",
      "[youtube] cRxg-PUAT6I: Downloading webpage\n",
      "[youtube] cRxg-PUAT6I: Downloading ios player API JSON\n",
      "[youtube] cRxg-PUAT6I: Downloading android player API JSON\n",
      "[youtube] cRxg-PUAT6I: Downloading m3u8 information\n"
     ]
    },
    {
     "name": "stderr",
     "output_type": "stream",
     "text": [
      "WARNING: [youtube] Failed to download m3u8 information: HTTP Error 429: Too Many Requests\n"
     ]
    },
    {
     "name": "stdout",
     "output_type": "stream",
     "text": [
      "[download] Downloading item 10 of 10\n",
      "[youtube] Extracting URL: https://www.youtube.com/shorts/HZilSL4ZNvQ\n",
      "[youtube] HZilSL4ZNvQ: Downloading webpage\n",
      "[youtube] HZilSL4ZNvQ: Downloading ios player API JSON\n",
      "[youtube] HZilSL4ZNvQ: Downloading android player API JSON\n",
      "[youtube] HZilSL4ZNvQ: Downloading m3u8 information\n"
     ]
    },
    {
     "name": "stderr",
     "output_type": "stream",
     "text": [
      "WARNING: [youtube] Failed to download m3u8 information: HTTP Error 429: Too Many Requests\n"
     ]
    },
    {
     "name": "stdout",
     "output_type": "stream",
     "text": [
      "[download] Finished downloading playlist: how to squat correctly\n"
     ]
    },
    {
     "name": "stderr",
     "output_type": "stream",
     "text": [
      "100%|██████████| 5/5 [02:31<00:00, 30.21s/it]\n"
     ]
    },
    {
     "data": {
      "text/html": [
       "<div>\n",
       "<style scoped>\n",
       "    .dataframe tbody tr th:only-of-type {\n",
       "        vertical-align: middle;\n",
       "    }\n",
       "\n",
       "    .dataframe tbody tr th {\n",
       "        vertical-align: top;\n",
       "    }\n",
       "\n",
       "    .dataframe thead th {\n",
       "        text-align: right;\n",
       "    }\n",
       "</style>\n",
       "<table border=\"1\" class=\"dataframe\">\n",
       "  <thead>\n",
       "    <tr style=\"text-align: right;\">\n",
       "      <th></th>\n",
       "      <th>id</th>\n",
       "      <th>title</th>\n",
       "      <th>formats</th>\n",
       "      <th>thumbnails</th>\n",
       "      <th>thumbnail</th>\n",
       "      <th>description</th>\n",
       "      <th>channel_id</th>\n",
       "      <th>channel_url</th>\n",
       "      <th>duration</th>\n",
       "      <th>view_count</th>\n",
       "      <th>...</th>\n",
       "      <th>vbr</th>\n",
       "      <th>stretched_ratio</th>\n",
       "      <th>aspect_ratio</th>\n",
       "      <th>acodec</th>\n",
       "      <th>abr</th>\n",
       "      <th>asr</th>\n",
       "      <th>audio_channels</th>\n",
       "      <th>query</th>\n",
       "      <th>location</th>\n",
       "      <th>queries</th>\n",
       "    </tr>\n",
       "    <tr>\n",
       "      <th>id</th>\n",
       "      <th></th>\n",
       "      <th></th>\n",
       "      <th></th>\n",
       "      <th></th>\n",
       "      <th></th>\n",
       "      <th></th>\n",
       "      <th></th>\n",
       "      <th></th>\n",
       "      <th></th>\n",
       "      <th></th>\n",
       "      <th></th>\n",
       "      <th></th>\n",
       "      <th></th>\n",
       "      <th></th>\n",
       "      <th></th>\n",
       "      <th></th>\n",
       "      <th></th>\n",
       "      <th></th>\n",
       "      <th></th>\n",
       "      <th></th>\n",
       "      <th></th>\n",
       "    </tr>\n",
       "  </thead>\n",
       "  <tbody>\n",
       "    <tr>\n",
       "      <th>4KmY44Xsg2w</th>\n",
       "      <td>4KmY44Xsg2w</td>\n",
       "      <td>The Basic Squat - Balance Exercise - CORE Chir...</td>\n",
       "      <td>[{'format_id': 'sb2', 'format_note': 'storyboa...</td>\n",
       "      <td>[{'url': 'https://i.ytimg.com/vi/4KmY44Xsg2w/3...</td>\n",
       "      <td>https://i.ytimg.com/vi_webp/4KmY44Xsg2w/maxres...</td>\n",
       "      <td>Dr. Natalie Cordova demonstrates how to do a b...</td>\n",
       "      <td>UCW6EenBHb_KF-eaFRE3gXnA</td>\n",
       "      <td>https://www.youtube.com/channel/UCW6EenBHb_KF-...</td>\n",
       "      <td>173</td>\n",
       "      <td>223954</td>\n",
       "      <td>...</td>\n",
       "      <td>707.089</td>\n",
       "      <td>None</td>\n",
       "      <td>1.78</td>\n",
       "      <td>opus</td>\n",
       "      <td>93.518</td>\n",
       "      <td>48000</td>\n",
       "      <td>2</td>\n",
       "      <td>squat exercises for beginners</td>\n",
       "      <td>CORE CHIROPRACTIC</td>\n",
       "      <td>[[squat exercises for beginners]]</td>\n",
       "    </tr>\n",
       "    <tr>\n",
       "      <th>AIZ8q1qruKw</th>\n",
       "      <td>AIZ8q1qruKw</td>\n",
       "      <td>How to Perform a PERFECT Squat</td>\n",
       "      <td>[{'format_id': 'sb1', 'format_note': 'storyboa...</td>\n",
       "      <td>[{'url': 'https://i.ytimg.com/vi/AIZ8q1qruKw/o...</td>\n",
       "      <td>https://i.ytimg.com/vi/AIZ8q1qruKw/sd2.jpg?sqp...</td>\n",
       "      <td>Get my book on fixing injury here: \\nhttps://w...</td>\n",
       "      <td>UCyPYQTT20IgzVw92LDvtClw</td>\n",
       "      <td>https://www.youtube.com/channel/UCyPYQTT20IgzV...</td>\n",
       "      <td>59</td>\n",
       "      <td>1274974</td>\n",
       "      <td>...</td>\n",
       "      <td>649.690</td>\n",
       "      <td>None</td>\n",
       "      <td>0.56</td>\n",
       "      <td>opus</td>\n",
       "      <td>108.711</td>\n",
       "      <td>48000</td>\n",
       "      <td>2</td>\n",
       "      <td>how to do squats</td>\n",
       "      <td>NaN</td>\n",
       "      <td>[[how to do squats]]</td>\n",
       "    </tr>\n",
       "    <tr>\n",
       "      <th>C73Y3EsJWIk</th>\n",
       "      <td>C73Y3EsJWIk</td>\n",
       "      <td>Top 10 BEST SQUATS Variations</td>\n",
       "      <td>[{'format_id': 'sb2', 'format_note': 'storyboa...</td>\n",
       "      <td>[{'url': 'https://i.ytimg.com/vi/C73Y3EsJWIk/3...</td>\n",
       "      <td>https://i.ytimg.com/vi_webp/C73Y3EsJWIk/maxres...</td>\n",
       "      <td>Top 10 Best Squat Exercises:\\n\\nHigh Bar Squat...</td>\n",
       "      <td>UCKf0UqBiCQI4Ol0To9V0pKQ</td>\n",
       "      <td>https://www.youtube.com/channel/UCKf0UqBiCQI4O...</td>\n",
       "      <td>479</td>\n",
       "      <td>421253</td>\n",
       "      <td>...</td>\n",
       "      <td>1118.830</td>\n",
       "      <td>None</td>\n",
       "      <td>1.78</td>\n",
       "      <td>mp4a.40.2</td>\n",
       "      <td>129.483</td>\n",
       "      <td>44100</td>\n",
       "      <td>2</td>\n",
       "      <td>squat variations</td>\n",
       "      <td>NaN</td>\n",
       "      <td>[[squat variations]]</td>\n",
       "    </tr>\n",
       "    <tr>\n",
       "      <th>EbOPpWi4L8s</th>\n",
       "      <td>EbOPpWi4L8s</td>\n",
       "      <td>How to Do Squats for Beginners</td>\n",
       "      <td>[{'format_id': 'sb3', 'format_note': 'storyboa...</td>\n",
       "      <td>[{'url': 'https://i.ytimg.com/vi/EbOPpWi4L8s/3...</td>\n",
       "      <td>https://i.ytimg.com/vi/EbOPpWi4L8s/maxresdefau...</td>\n",
       "      <td>How to Do Squats for Beginners. Part of the se...</td>\n",
       "      <td>UCE8wCVw_ZfRw-D6RJ5EXWbw</td>\n",
       "      <td>https://www.youtube.com/channel/UCE8wCVw_ZfRw-...</td>\n",
       "      <td>97</td>\n",
       "      <td>207315</td>\n",
       "      <td>...</td>\n",
       "      <td>415.467</td>\n",
       "      <td>None</td>\n",
       "      <td>1.78</td>\n",
       "      <td>opus</td>\n",
       "      <td>106.487</td>\n",
       "      <td>48000</td>\n",
       "      <td>2</td>\n",
       "      <td>squat exercises for beginners</td>\n",
       "      <td>NaN</td>\n",
       "      <td>[[squat exercises for beginners]]</td>\n",
       "    </tr>\n",
       "    <tr>\n",
       "      <th>EzvnMZuxGWw</th>\n",
       "      <td>EzvnMZuxGWw</td>\n",
       "      <td>Perfect Squat Form in 3 Steps!</td>\n",
       "      <td>[{'format_id': 'sb2', 'format_note': 'storyboa...</td>\n",
       "      <td>[{'url': 'https://i.ytimg.com/vi/EzvnMZuxGWw/3...</td>\n",
       "      <td>https://i.ytimg.com/vi/EzvnMZuxGWw/maxresdefau...</td>\n",
       "      <td></td>\n",
       "      <td>UCyPYQTT20IgzVw92LDvtClw</td>\n",
       "      <td>https://www.youtube.com/channel/UCyPYQTT20IgzV...</td>\n",
       "      <td>60</td>\n",
       "      <td>569406</td>\n",
       "      <td>...</td>\n",
       "      <td>1299.342</td>\n",
       "      <td>None</td>\n",
       "      <td>0.56</td>\n",
       "      <td>opus</td>\n",
       "      <td>127.322</td>\n",
       "      <td>48000</td>\n",
       "      <td>2</td>\n",
       "      <td>proper squat form</td>\n",
       "      <td>NaN</td>\n",
       "      <td>[[proper squat form], [squat variations]]</td>\n",
       "    </tr>\n",
       "  </tbody>\n",
       "</table>\n",
       "<p>5 rows × 82 columns</p>\n",
       "</div>"
      ],
      "text/plain": [
       "                      id                                              title  \\\n",
       "id                                                                            \n",
       "4KmY44Xsg2w  4KmY44Xsg2w  The Basic Squat - Balance Exercise - CORE Chir...   \n",
       "AIZ8q1qruKw  AIZ8q1qruKw                     How to Perform a PERFECT Squat   \n",
       "C73Y3EsJWIk  C73Y3EsJWIk                      Top 10 BEST SQUATS Variations   \n",
       "EbOPpWi4L8s  EbOPpWi4L8s                     How to Do Squats for Beginners   \n",
       "EzvnMZuxGWw  EzvnMZuxGWw                     Perfect Squat Form in 3 Steps!   \n",
       "\n",
       "                                                       formats  \\\n",
       "id                                                               \n",
       "4KmY44Xsg2w  [{'format_id': 'sb2', 'format_note': 'storyboa...   \n",
       "AIZ8q1qruKw  [{'format_id': 'sb1', 'format_note': 'storyboa...   \n",
       "C73Y3EsJWIk  [{'format_id': 'sb2', 'format_note': 'storyboa...   \n",
       "EbOPpWi4L8s  [{'format_id': 'sb3', 'format_note': 'storyboa...   \n",
       "EzvnMZuxGWw  [{'format_id': 'sb2', 'format_note': 'storyboa...   \n",
       "\n",
       "                                                    thumbnails  \\\n",
       "id                                                               \n",
       "4KmY44Xsg2w  [{'url': 'https://i.ytimg.com/vi/4KmY44Xsg2w/3...   \n",
       "AIZ8q1qruKw  [{'url': 'https://i.ytimg.com/vi/AIZ8q1qruKw/o...   \n",
       "C73Y3EsJWIk  [{'url': 'https://i.ytimg.com/vi/C73Y3EsJWIk/3...   \n",
       "EbOPpWi4L8s  [{'url': 'https://i.ytimg.com/vi/EbOPpWi4L8s/3...   \n",
       "EzvnMZuxGWw  [{'url': 'https://i.ytimg.com/vi/EzvnMZuxGWw/3...   \n",
       "\n",
       "                                                     thumbnail  \\\n",
       "id                                                               \n",
       "4KmY44Xsg2w  https://i.ytimg.com/vi_webp/4KmY44Xsg2w/maxres...   \n",
       "AIZ8q1qruKw  https://i.ytimg.com/vi/AIZ8q1qruKw/sd2.jpg?sqp...   \n",
       "C73Y3EsJWIk  https://i.ytimg.com/vi_webp/C73Y3EsJWIk/maxres...   \n",
       "EbOPpWi4L8s  https://i.ytimg.com/vi/EbOPpWi4L8s/maxresdefau...   \n",
       "EzvnMZuxGWw  https://i.ytimg.com/vi/EzvnMZuxGWw/maxresdefau...   \n",
       "\n",
       "                                                   description  \\\n",
       "id                                                               \n",
       "4KmY44Xsg2w  Dr. Natalie Cordova demonstrates how to do a b...   \n",
       "AIZ8q1qruKw  Get my book on fixing injury here: \\nhttps://w...   \n",
       "C73Y3EsJWIk  Top 10 Best Squat Exercises:\\n\\nHigh Bar Squat...   \n",
       "EbOPpWi4L8s  How to Do Squats for Beginners. Part of the se...   \n",
       "EzvnMZuxGWw                                                      \n",
       "\n",
       "                           channel_id  \\\n",
       "id                                      \n",
       "4KmY44Xsg2w  UCW6EenBHb_KF-eaFRE3gXnA   \n",
       "AIZ8q1qruKw  UCyPYQTT20IgzVw92LDvtClw   \n",
       "C73Y3EsJWIk  UCKf0UqBiCQI4Ol0To9V0pKQ   \n",
       "EbOPpWi4L8s  UCE8wCVw_ZfRw-D6RJ5EXWbw   \n",
       "EzvnMZuxGWw  UCyPYQTT20IgzVw92LDvtClw   \n",
       "\n",
       "                                                   channel_url  duration  \\\n",
       "id                                                                         \n",
       "4KmY44Xsg2w  https://www.youtube.com/channel/UCW6EenBHb_KF-...       173   \n",
       "AIZ8q1qruKw  https://www.youtube.com/channel/UCyPYQTT20IgzV...        59   \n",
       "C73Y3EsJWIk  https://www.youtube.com/channel/UCKf0UqBiCQI4O...       479   \n",
       "EbOPpWi4L8s  https://www.youtube.com/channel/UCE8wCVw_ZfRw-...        97   \n",
       "EzvnMZuxGWw  https://www.youtube.com/channel/UCyPYQTT20IgzV...        60   \n",
       "\n",
       "             view_count  ...       vbr  stretched_ratio aspect_ratio  \\\n",
       "id                       ...                                           \n",
       "4KmY44Xsg2w      223954  ...   707.089             None         1.78   \n",
       "AIZ8q1qruKw     1274974  ...   649.690             None         0.56   \n",
       "C73Y3EsJWIk      421253  ...  1118.830             None         1.78   \n",
       "EbOPpWi4L8s      207315  ...   415.467             None         1.78   \n",
       "EzvnMZuxGWw      569406  ...  1299.342             None         0.56   \n",
       "\n",
       "                acodec      abr    asr audio_channels  \\\n",
       "id                                                      \n",
       "4KmY44Xsg2w       opus   93.518  48000              2   \n",
       "AIZ8q1qruKw       opus  108.711  48000              2   \n",
       "C73Y3EsJWIk  mp4a.40.2  129.483  44100              2   \n",
       "EbOPpWi4L8s       opus  106.487  48000              2   \n",
       "EzvnMZuxGWw       opus  127.322  48000              2   \n",
       "\n",
       "                                     query           location  \\\n",
       "id                                                              \n",
       "4KmY44Xsg2w  squat exercises for beginners  CORE CHIROPRACTIC   \n",
       "AIZ8q1qruKw               how to do squats                NaN   \n",
       "C73Y3EsJWIk               squat variations                NaN   \n",
       "EbOPpWi4L8s  squat exercises for beginners                NaN   \n",
       "EzvnMZuxGWw              proper squat form                NaN   \n",
       "\n",
       "                                               queries  \n",
       "id                                                      \n",
       "4KmY44Xsg2w          [[squat exercises for beginners]]  \n",
       "AIZ8q1qruKw                       [[how to do squats]]  \n",
       "C73Y3EsJWIk                       [[squat variations]]  \n",
       "EbOPpWi4L8s          [[squat exercises for beginners]]  \n",
       "EzvnMZuxGWw  [[proper squat form], [squat variations]]  \n",
       "\n",
       "[5 rows x 82 columns]"
      ]
     },
     "execution_count": 4,
     "metadata": {},
     "output_type": "execute_result"
    }
   ],
   "source": [
    "df = get_video_info(queries, videos_per_query=10)\n",
    "df.head()"
   ]
  },
  {
   "cell_type": "code",
   "execution_count": 13,
   "metadata": {},
   "outputs": [
    {
     "data": {
      "text/plain": [
       "28"
      ]
     },
     "execution_count": 13,
     "metadata": {},
     "output_type": "execute_result"
    }
   ],
   "source": [
    "# For 5 queries times 10 videos per query = 50 videos, we got 28 unique videos\n",
    "len(df)"
   ]
  },
  {
   "cell_type": "code",
   "execution_count": 10,
   "metadata": {},
   "outputs": [],
   "source": [
    "df.to_csv(config.data_dir / 'video_info.csv')"
   ]
  },
  {
   "cell_type": "markdown",
   "metadata": {},
   "source": [
    "## Download videos and autogenerated subtitles\n",
    "\n",
    "You can change sub languages, formats etc with `yt_dlp_opts` dictionary (refer to https://github.com/yt-dlp/yt-dlp).<br>\n",
    "The SDK is expecting `.mp4` video files (for now), so don't change that."
   ]
  },
  {
   "cell_type": "code",
   "execution_count": 15,
   "metadata": {},
   "outputs": [
    {
     "name": "stdout",
     "output_type": "stream",
     "text": [
      "[youtube] Extracting URL: https://www.youtube.com/watch?v=4KmY44Xsg2w\n",
      "[youtube] 4KmY44Xsg2w: Downloading webpage\n",
      "[youtube] 4KmY44Xsg2w: Downloading ios player API JSON\n",
      "[youtube] 4KmY44Xsg2w: Downloading android player API JSON\n",
      "[youtube] 4KmY44Xsg2w: Downloading m3u8 information\n"
     ]
    },
    {
     "name": "stderr",
     "output_type": "stream",
     "text": [
      "WARNING: [youtube] Failed to download m3u8 information: HTTP Error 429: Too Many Requests\n"
     ]
    },
    {
     "name": "stdout",
     "output_type": "stream",
     "text": [
      "[info] 4KmY44Xsg2w: Downloading subtitles: en\n",
      "[info] 4KmY44Xsg2w: Downloading 1 format(s): 18\n",
      "[info] Writing video subtitles to: tmp/squats/videos/4KmY44Xsg2w.en.vtt\n",
      "[download] Destination: tmp/squats/videos/4KmY44Xsg2w.en.vtt\n",
      "[download] 100% of   26.61KiB in 00:00:00 at 197.80KiB/s\n",
      "[download] Destination: tmp/squats/videos/4KmY44Xsg2w.mp4\n",
      "[download] 100% of    6.36MiB in 00:00:01 at 5.06MiB/s     \n",
      "[MoveFiles] Moving file \"tmp/squats/videos/4KmY44Xsg2w.en.vtt\" to \"tmp/squats/subs/4KmY44Xsg2w.en.vtt\"\n",
      "[youtube] Extracting URL: https://www.youtube.com/watch?v=AIZ8q1qruKw\n",
      "[youtube] AIZ8q1qruKw: Downloading webpage\n",
      "[youtube] AIZ8q1qruKw: Downloading ios player API JSON\n",
      "[youtube] AIZ8q1qruKw: Downloading android player API JSON\n",
      "[youtube] AIZ8q1qruKw: Downloading m3u8 information\n"
     ]
    },
    {
     "name": "stderr",
     "output_type": "stream",
     "text": [
      "WARNING: [youtube] Failed to download m3u8 information: HTTP Error 429: Too Many Requests\n"
     ]
    },
    {
     "name": "stdout",
     "output_type": "stream",
     "text": [
      "[info] AIZ8q1qruKw: Downloading subtitles: en\n",
      "[info] AIZ8q1qruKw: Downloading 1 format(s): 18\n",
      "[info] Writing video subtitles to: tmp/squats/videos/AIZ8q1qruKw.en.vtt\n",
      "[download] Destination: tmp/squats/videos/AIZ8q1qruKw.en.vtt\n",
      "[download] 100% of    8.53KiB in 00:00:00 at 30.42KiB/s\n",
      "[download] Destination: tmp/squats/videos/AIZ8q1qruKw.mp4\n",
      "[download] 100% of    1.96MiB in 00:00:01 at 1.95MiB/s   \n",
      "[MoveFiles] Moving file \"tmp/squats/videos/AIZ8q1qruKw.en.vtt\" to \"tmp/squats/subs/AIZ8q1qruKw.en.vtt\"\n",
      "[youtube] Extracting URL: https://www.youtube.com/watch?v=C73Y3EsJWIk\n",
      "[youtube] C73Y3EsJWIk: Downloading webpage\n",
      "[youtube] C73Y3EsJWIk: Downloading ios player API JSON\n",
      "[youtube] C73Y3EsJWIk: Downloading android player API JSON\n",
      "[youtube] C73Y3EsJWIk: Downloading m3u8 information\n"
     ]
    },
    {
     "name": "stderr",
     "output_type": "stream",
     "text": [
      "WARNING: [youtube] Failed to download m3u8 information: HTTP Error 429: Too Many Requests\n"
     ]
    },
    {
     "name": "stdout",
     "output_type": "stream",
     "text": [
      "[info] C73Y3EsJWIk: Downloading subtitles: en\n",
      "[info] C73Y3EsJWIk: Downloading 1 format(s): 18\n",
      "[info] Writing video subtitles to: tmp/squats/videos/C73Y3EsJWIk.en.vtt\n",
      "[download] Destination: tmp/squats/videos/C73Y3EsJWIk.en.vtt\n",
      "[download] 100% of   87.20KiB in 00:00:00 at 316.26KiB/s\n",
      "[download] Destination: tmp/squats/videos/C73Y3EsJWIk.mp4\n",
      "[download] 100% of   22.69MiB in 00:00:09 at 2.39MiB/s   \n",
      "[MoveFiles] Moving file \"tmp/squats/videos/C73Y3EsJWIk.en.vtt\" to \"tmp/squats/subs/C73Y3EsJWIk.en.vtt\"\n",
      "[youtube] Extracting URL: https://www.youtube.com/watch?v=EbOPpWi4L8s\n",
      "[youtube] EbOPpWi4L8s: Downloading webpage\n",
      "[youtube] EbOPpWi4L8s: Downloading ios player API JSON\n",
      "[youtube] EbOPpWi4L8s: Downloading android player API JSON\n",
      "[youtube] EbOPpWi4L8s: Downloading m3u8 information\n"
     ]
    },
    {
     "name": "stderr",
     "output_type": "stream",
     "text": [
      "WARNING: [youtube] Failed to download m3u8 information: HTTP Error 429: Too Many Requests\n"
     ]
    },
    {
     "name": "stdout",
     "output_type": "stream",
     "text": [
      "[info] EbOPpWi4L8s: Downloading subtitles: en\n",
      "[info] EbOPpWi4L8s: Downloading 1 format(s): 18\n",
      "[info] Writing video subtitles to: tmp/squats/videos/EbOPpWi4L8s.en.vtt\n",
      "[download] Destination: tmp/squats/videos/EbOPpWi4L8s.en.vtt\n",
      "[download] 100% of   12.98KiB in 00:00:00 at 76.77KiB/s\n",
      "[download] Destination: tmp/squats/videos/EbOPpWi4L8s.mp4\n",
      "[download] 100% of    4.81MiB in 00:00:01 at 4.30MiB/s   \n",
      "[MoveFiles] Moving file \"tmp/squats/videos/EbOPpWi4L8s.en.vtt\" to \"tmp/squats/subs/EbOPpWi4L8s.en.vtt\"\n",
      "[youtube] Extracting URL: https://www.youtube.com/watch?v=EzvnMZuxGWw\n",
      "[youtube] EzvnMZuxGWw: Downloading webpage\n",
      "[youtube] EzvnMZuxGWw: Downloading ios player API JSON\n",
      "[youtube] EzvnMZuxGWw: Downloading android player API JSON\n",
      "[youtube] EzvnMZuxGWw: Downloading m3u8 information\n"
     ]
    },
    {
     "name": "stderr",
     "output_type": "stream",
     "text": [
      "WARNING: [youtube] Failed to download m3u8 information: HTTP Error 429: Too Many Requests\n"
     ]
    },
    {
     "name": "stdout",
     "output_type": "stream",
     "text": [
      "[info] EzvnMZuxGWw: Downloading subtitles: en\n",
      "[info] EzvnMZuxGWw: Downloading 1 format(s): 18\n",
      "[info] Writing video subtitles to: tmp/squats/videos/EzvnMZuxGWw.en.vtt\n",
      "[download] Destination: tmp/squats/videos/EzvnMZuxGWw.en.vtt\n",
      "[download] 100% of    8.85KiB in 00:00:00 at 48.76KiB/s\n",
      "[download] Destination: tmp/squats/videos/EzvnMZuxGWw.mp4\n",
      "[download] 100% of    2.86MiB in 00:00:01 at 2.29MiB/s   \n",
      "[MoveFiles] Moving file \"tmp/squats/videos/EzvnMZuxGWw.en.vtt\" to \"tmp/squats/subs/EzvnMZuxGWw.en.vtt\"\n",
      "[youtube] Extracting URL: https://www.youtube.com/watch?v=HZilSL4ZNvQ\n",
      "[youtube] HZilSL4ZNvQ: Downloading webpage\n",
      "[youtube] HZilSL4ZNvQ: Downloading ios player API JSON\n",
      "[youtube] HZilSL4ZNvQ: Downloading android player API JSON\n",
      "[youtube] HZilSL4ZNvQ: Downloading m3u8 information\n"
     ]
    },
    {
     "name": "stderr",
     "output_type": "stream",
     "text": [
      "WARNING: [youtube] Failed to download m3u8 information: HTTP Error 429: Too Many Requests\n"
     ]
    },
    {
     "name": "stdout",
     "output_type": "stream",
     "text": [
      "[info] HZilSL4ZNvQ: Downloading subtitles: en\n",
      "[info] HZilSL4ZNvQ: Downloading 1 format(s): 18\n",
      "[info] Writing video subtitles to: tmp/squats/videos/HZilSL4ZNvQ.en.vtt\n",
      "[download] Destination: tmp/squats/videos/HZilSL4ZNvQ.en.vtt\n",
      "[download] 100% of    6.07KiB in 00:00:00 at 35.87KiB/s\n",
      "[download] Destination: tmp/squats/videos/HZilSL4ZNvQ.mp4\n",
      "[download] 100% of    1.19MiB in 00:00:00 at 1.35MiB/s     \n",
      "[MoveFiles] Moving file \"tmp/squats/videos/HZilSL4ZNvQ.en.vtt\" to \"tmp/squats/subs/HZilSL4ZNvQ.en.vtt\"\n",
      "[youtube] Extracting URL: https://www.youtube.com/watch?v=HgDZlNQrifY\n",
      "[youtube] HgDZlNQrifY: Downloading webpage\n",
      "[youtube] HgDZlNQrifY: Downloading ios player API JSON\n",
      "[youtube] HgDZlNQrifY: Downloading android player API JSON\n",
      "[youtube] HgDZlNQrifY: Downloading m3u8 information\n"
     ]
    },
    {
     "name": "stderr",
     "output_type": "stream",
     "text": [
      "WARNING: [youtube] Failed to download m3u8 information: HTTP Error 429: Too Many Requests\n"
     ]
    },
    {
     "name": "stdout",
     "output_type": "stream",
     "text": [
      "[info] HgDZlNQrifY: Downloading subtitles: en\n",
      "[info] HgDZlNQrifY: Downloading 1 format(s): 18\n",
      "[info] Writing video subtitles to: tmp/squats/videos/HgDZlNQrifY.en.vtt\n",
      "[download] Destination: tmp/squats/videos/HgDZlNQrifY.en.vtt\n",
      "[download] 100% of    5.28KiB in 00:00:00 at 28.22KiB/s\n",
      "[download] Destination: tmp/squats/videos/HgDZlNQrifY.mp4\n",
      "[download] 100% of  834.29KiB in 00:00:01 at 817.39KiB/s   \n",
      "[MoveFiles] Moving file \"tmp/squats/videos/HgDZlNQrifY.en.vtt\" to \"tmp/squats/subs/HgDZlNQrifY.en.vtt\"\n",
      "[youtube] Extracting URL: https://www.youtube.com/watch?v=IB_icWRzi4E\n",
      "[youtube] IB_icWRzi4E: Downloading webpage\n",
      "[youtube] IB_icWRzi4E: Downloading ios player API JSON\n",
      "[youtube] IB_icWRzi4E: Downloading android player API JSON\n",
      "[youtube] IB_icWRzi4E: Downloading m3u8 information\n"
     ]
    },
    {
     "name": "stderr",
     "output_type": "stream",
     "text": [
      "WARNING: [youtube] Failed to download m3u8 information: HTTP Error 429: Too Many Requests\n"
     ]
    },
    {
     "name": "stdout",
     "output_type": "stream",
     "text": [
      "[info] IB_icWRzi4E: Downloading subtitles: en\n",
      "[info] IB_icWRzi4E: Downloading 1 format(s): 18\n",
      "[info] Writing video subtitles to: tmp/squats/videos/IB_icWRzi4E.en.vtt\n",
      "[download] Destination: tmp/squats/videos/IB_icWRzi4E.en.vtt\n",
      "[download] 100% of   24.24KiB in 00:00:00 at 173.82KiB/s\n",
      "[download] Destination: tmp/squats/videos/IB_icWRzi4E.mp4\n",
      "[download] 100% of    4.95MiB in 00:00:01 at 4.16MiB/s   \n",
      "[MoveFiles] Moving file \"tmp/squats/videos/IB_icWRzi4E.en.vtt\" to \"tmp/squats/subs/IB_icWRzi4E.en.vtt\"\n",
      "[youtube] Extracting URL: https://www.youtube.com/watch?v=LF4zb2SYWjQ\n",
      "[youtube] LF4zb2SYWjQ: Downloading webpage\n",
      "[youtube] LF4zb2SYWjQ: Downloading ios player API JSON\n",
      "[youtube] LF4zb2SYWjQ: Downloading android player API JSON\n",
      "[youtube] LF4zb2SYWjQ: Downloading m3u8 information\n"
     ]
    },
    {
     "name": "stderr",
     "output_type": "stream",
     "text": [
      "WARNING: [youtube] Failed to download m3u8 information: HTTP Error 429: Too Many Requests\n"
     ]
    },
    {
     "name": "stdout",
     "output_type": "stream",
     "text": [
      "[info] LF4zb2SYWjQ: Downloading subtitles: en\n",
      "[info] LF4zb2SYWjQ: Downloading 1 format(s): 18\n",
      "[info] Writing video subtitles to: tmp/squats/videos/LF4zb2SYWjQ.en.vtt\n",
      "[download] Destination: tmp/squats/videos/LF4zb2SYWjQ.en.vtt\n",
      "[download] 100% of    4.43KiB in 00:00:00 at 28.41KiB/s\n",
      "[download] Destination: tmp/squats/videos/LF4zb2SYWjQ.mp4\n",
      "[download] 100% of  778.67KiB in 00:00:01 at 706.89KiB/s   \n",
      "[MoveFiles] Moving file \"tmp/squats/videos/LF4zb2SYWjQ.en.vtt\" to \"tmp/squats/subs/LF4zb2SYWjQ.en.vtt\"\n",
      "[youtube] Extracting URL: https://www.youtube.com/watch?v=LFkinX12jtU\n",
      "[youtube] LFkinX12jtU: Downloading webpage\n",
      "[youtube] LFkinX12jtU: Downloading ios player API JSON\n",
      "[youtube] LFkinX12jtU: Downloading android player API JSON\n",
      "[youtube] LFkinX12jtU: Downloading m3u8 information\n"
     ]
    },
    {
     "name": "stderr",
     "output_type": "stream",
     "text": [
      "WARNING: [youtube] Failed to download m3u8 information: HTTP Error 429: Too Many Requests\n"
     ]
    },
    {
     "name": "stdout",
     "output_type": "stream",
     "text": [
      "[info] LFkinX12jtU: Downloading subtitles: en\n",
      "[info] LFkinX12jtU: Downloading 1 format(s): 18\n",
      "[info] Writing video subtitles to: tmp/squats/videos/LFkinX12jtU.en.vtt\n",
      "[download] Destination: tmp/squats/videos/LFkinX12jtU.en.vtt\n",
      "[download] 100% of    9.46KiB in 00:00:00 at 60.96KiB/s\n",
      "[download] Destination: tmp/squats/videos/LFkinX12jtU.mp4\n",
      "[download] 100% of    4.11MiB in 00:00:01 at 3.20MiB/s   \n",
      "[MoveFiles] Moving file \"tmp/squats/videos/LFkinX12jtU.en.vtt\" to \"tmp/squats/subs/LFkinX12jtU.en.vtt\"\n",
      "[youtube] Extracting URL: https://www.youtube.com/watch?v=MLoZuAkIyZI\n",
      "[youtube] MLoZuAkIyZI: Downloading webpage\n",
      "[youtube] MLoZuAkIyZI: Downloading ios player API JSON\n",
      "[youtube] MLoZuAkIyZI: Downloading android player API JSON\n",
      "[youtube] MLoZuAkIyZI: Downloading m3u8 information\n"
     ]
    },
    {
     "name": "stderr",
     "output_type": "stream",
     "text": [
      "WARNING: [youtube] Failed to download m3u8 information: HTTP Error 429: Too Many Requests\n"
     ]
    },
    {
     "name": "stdout",
     "output_type": "stream",
     "text": [
      "[info] MLoZuAkIyZI: Downloading subtitles: en\n",
      "[info] MLoZuAkIyZI: Downloading 1 format(s): 18\n",
      "[info] Writing video subtitles to: tmp/squats/videos/MLoZuAkIyZI.en.vtt\n",
      "[download] Destination: tmp/squats/videos/MLoZuAkIyZI.en.vtt\n",
      "[download] 100% of   11.28KiB in 00:00:00 at 63.24KiB/s\n",
      "[download] Destination: tmp/squats/videos/MLoZuAkIyZI.mp4\n",
      "[download] 100% of    2.78MiB in 00:00:01 at 2.07MiB/s   \n",
      "[MoveFiles] Moving file \"tmp/squats/videos/MLoZuAkIyZI.en.vtt\" to \"tmp/squats/subs/MLoZuAkIyZI.en.vtt\"\n",
      "[youtube] Extracting URL: https://www.youtube.com/watch?v=MM9ObaAPcv4\n",
      "[youtube] MM9ObaAPcv4: Downloading webpage\n",
      "[youtube] MM9ObaAPcv4: Downloading ios player API JSON\n",
      "[youtube] MM9ObaAPcv4: Downloading android player API JSON\n",
      "[youtube] MM9ObaAPcv4: Downloading m3u8 information\n"
     ]
    },
    {
     "name": "stderr",
     "output_type": "stream",
     "text": [
      "WARNING: [youtube] Failed to download m3u8 information: HTTP Error 429: Too Many Requests\n"
     ]
    },
    {
     "name": "stdout",
     "output_type": "stream",
     "text": [
      "[info] MM9ObaAPcv4: Downloading subtitles: en\n",
      "[info] MM9ObaAPcv4: Downloading 1 format(s): 18\n",
      "[info] Writing video subtitles to: tmp/squats/videos/MM9ObaAPcv4.en.vtt\n",
      "[download] Destination: tmp/squats/videos/MM9ObaAPcv4.en.vtt\n",
      "[download] 100% of    9.94KiB in 00:00:00 at 54.56KiB/s\n",
      "[download] Destination: tmp/squats/videos/MM9ObaAPcv4.mp4\n",
      "[download] 100% of    4.20MiB in 00:00:01 at 3.41MiB/s   \n",
      "[MoveFiles] Moving file \"tmp/squats/videos/MM9ObaAPcv4.en.vtt\" to \"tmp/squats/subs/MM9ObaAPcv4.en.vtt\"\n",
      "[youtube] Extracting URL: https://www.youtube.com/watch?v=OTyb4YUDYYY\n",
      "[youtube] OTyb4YUDYYY: Downloading webpage\n",
      "[youtube] OTyb4YUDYYY: Downloading ios player API JSON\n",
      "[youtube] OTyb4YUDYYY: Downloading android player API JSON\n",
      "[youtube] OTyb4YUDYYY: Downloading m3u8 information\n"
     ]
    },
    {
     "name": "stderr",
     "output_type": "stream",
     "text": [
      "WARNING: [youtube] Failed to download m3u8 information: HTTP Error 429: Too Many Requests\n"
     ]
    },
    {
     "name": "stdout",
     "output_type": "stream",
     "text": [
      "[info] OTyb4YUDYYY: Downloading subtitles: en\n",
      "[info] OTyb4YUDYYY: Downloading 1 format(s): 18\n",
      "[info] Writing video subtitles to: tmp/squats/videos/OTyb4YUDYYY.en.vtt\n",
      "[download] Destination: tmp/squats/videos/OTyb4YUDYYY.en.vtt\n",
      "[download] 100% of    620.00B in 00:00:00 at 2.91KiB/s\n",
      "[download] Destination: tmp/squats/videos/OTyb4YUDYYY.mp4\n",
      "[download] 100% of    1.74MiB in 00:00:01 at 1.56MiB/s   \n",
      "[MoveFiles] Moving file \"tmp/squats/videos/OTyb4YUDYYY.en.vtt\" to \"tmp/squats/subs/OTyb4YUDYYY.en.vtt\"\n",
      "[youtube] Extracting URL: https://www.youtube.com/watch?v=PJj5shV4uYo\n",
      "[youtube] PJj5shV4uYo: Downloading webpage\n",
      "[youtube] PJj5shV4uYo: Downloading ios player API JSON\n",
      "[youtube] PJj5shV4uYo: Downloading android player API JSON\n",
      "[youtube] PJj5shV4uYo: Downloading m3u8 information\n"
     ]
    },
    {
     "name": "stderr",
     "output_type": "stream",
     "text": [
      "WARNING: [youtube] Failed to download m3u8 information: HTTP Error 429: Too Many Requests\n"
     ]
    },
    {
     "name": "stdout",
     "output_type": "stream",
     "text": [
      "[info] PJj5shV4uYo: Downloading subtitles: en\n",
      "[info] PJj5shV4uYo: Downloading 1 format(s): 18\n",
      "[info] Writing video subtitles to: tmp/squats/videos/PJj5shV4uYo.en.vtt\n",
      "[download] Destination: tmp/squats/videos/PJj5shV4uYo.en.vtt\n",
      "[download] 100% of    656.00B in 00:00:00 at 3.61KiB/s\n",
      "[download] Destination: tmp/squats/videos/PJj5shV4uYo.mp4\n",
      "[download] 100% of    4.07MiB in 00:00:01 at 3.51MiB/s   \n",
      "[MoveFiles] Moving file \"tmp/squats/videos/PJj5shV4uYo.en.vtt\" to \"tmp/squats/subs/PJj5shV4uYo.en.vtt\"\n",
      "[youtube] Extracting URL: https://www.youtube.com/watch?v=PPmvh7gBTi0\n",
      "[youtube] PPmvh7gBTi0: Downloading webpage\n",
      "[youtube] PPmvh7gBTi0: Downloading ios player API JSON\n",
      "[youtube] PPmvh7gBTi0: Downloading android player API JSON\n",
      "[youtube] PPmvh7gBTi0: Downloading m3u8 information\n"
     ]
    },
    {
     "name": "stderr",
     "output_type": "stream",
     "text": [
      "WARNING: [youtube] Failed to download m3u8 information: HTTP Error 429: Too Many Requests\n"
     ]
    },
    {
     "name": "stdout",
     "output_type": "stream",
     "text": [
      "[info] PPmvh7gBTi0: Downloading subtitles: en\n",
      "[info] PPmvh7gBTi0: Downloading 1 format(s): 18\n",
      "[info] Writing video subtitles to: tmp/squats/videos/PPmvh7gBTi0.en.vtt\n",
      "[download] Destination: tmp/squats/videos/PPmvh7gBTi0.en.vtt\n",
      "[download] 100% of   10.23KiB in 00:00:00 at 71.62KiB/s\n",
      "[download] Destination: tmp/squats/videos/PPmvh7gBTi0.mp4\n",
      "[download] 100% of    3.71MiB in 00:00:01 at 3.59MiB/s   \n",
      "[MoveFiles] Moving file \"tmp/squats/videos/PPmvh7gBTi0.en.vtt\" to \"tmp/squats/subs/PPmvh7gBTi0.en.vtt\"\n",
      "[youtube] Extracting URL: https://www.youtube.com/watch?v=SLOkdLLWj8A\n",
      "[youtube] SLOkdLLWj8A: Downloading webpage\n",
      "[youtube] SLOkdLLWj8A: Downloading ios player API JSON\n",
      "[youtube] SLOkdLLWj8A: Downloading android player API JSON\n",
      "[youtube] SLOkdLLWj8A: Downloading m3u8 information\n"
     ]
    },
    {
     "name": "stderr",
     "output_type": "stream",
     "text": [
      "WARNING: [youtube] Failed to download m3u8 information: HTTP Error 429: Too Many Requests\n"
     ]
    },
    {
     "name": "stdout",
     "output_type": "stream",
     "text": [
      "[info] SLOkdLLWj8A: Downloading 1 format(s): 18\n",
      "[info] There are no subtitles for the requested languages\n",
      "[download] Destination: tmp/squats/videos/SLOkdLLWj8A.mp4\n",
      "[download] 100% of  627.24KiB in 00:00:00 at 788.73KiB/s \n",
      "[youtube] Extracting URL: https://www.youtube.com/watch?v=T6id8FuUcao\n",
      "[youtube] T6id8FuUcao: Downloading webpage\n",
      "[youtube] T6id8FuUcao: Downloading ios player API JSON\n",
      "[youtube] T6id8FuUcao: Downloading android player API JSON\n",
      "[youtube] T6id8FuUcao: Downloading m3u8 information\n"
     ]
    },
    {
     "name": "stderr",
     "output_type": "stream",
     "text": [
      "WARNING: [youtube] Failed to download m3u8 information: HTTP Error 429: Too Many Requests\n"
     ]
    },
    {
     "name": "stdout",
     "output_type": "stream",
     "text": [
      "[info] T6id8FuUcao: Downloading 1 format(s): 18\n",
      "[info] There are no subtitles for the requested languages\n",
      "[download] Destination: tmp/squats/videos/T6id8FuUcao.mp4\n",
      "[download] 100% of  683.30KiB in 00:00:00 at 814.87KiB/s   \n",
      "[youtube] Extracting URL: https://www.youtube.com/watch?v=TH6jSCGnowI\n",
      "[youtube] TH6jSCGnowI: Downloading webpage\n",
      "[youtube] TH6jSCGnowI: Downloading ios player API JSON\n",
      "[youtube] TH6jSCGnowI: Downloading android player API JSON\n",
      "[youtube] TH6jSCGnowI: Downloading m3u8 information\n"
     ]
    },
    {
     "name": "stderr",
     "output_type": "stream",
     "text": [
      "WARNING: [youtube] Failed to download m3u8 information: HTTP Error 429: Too Many Requests\n"
     ]
    },
    {
     "name": "stdout",
     "output_type": "stream",
     "text": [
      "[info] TH6jSCGnowI: Downloading subtitles: en\n",
      "[info] TH6jSCGnowI: Downloading 1 format(s): 18\n",
      "[info] Writing video subtitles to: tmp/squats/videos/TH6jSCGnowI.en.vtt\n",
      "[download] Destination: tmp/squats/videos/TH6jSCGnowI.en.vtt\n",
      "[download] 100% of    6.34KiB in 00:00:00 at 33.87KiB/s\n",
      "[download] Destination: tmp/squats/videos/TH6jSCGnowI.mp4\n",
      "[download] 100% of    1.19MiB in 00:00:00 at 1.35MiB/s     \n",
      "[MoveFiles] Moving file \"tmp/squats/videos/TH6jSCGnowI.en.vtt\" to \"tmp/squats/subs/TH6jSCGnowI.en.vtt\"\n",
      "[youtube] Extracting URL: https://www.youtube.com/watch?v=a3aw-5vDM2E\n",
      "[youtube] a3aw-5vDM2E: Downloading webpage\n",
      "[youtube] a3aw-5vDM2E: Downloading ios player API JSON\n",
      "[youtube] a3aw-5vDM2E: Downloading android player API JSON\n",
      "[youtube] a3aw-5vDM2E: Downloading m3u8 information\n"
     ]
    },
    {
     "name": "stderr",
     "output_type": "stream",
     "text": [
      "WARNING: [youtube] Failed to download m3u8 information: HTTP Error 429: Too Many Requests\n"
     ]
    },
    {
     "name": "stdout",
     "output_type": "stream",
     "text": [
      "[info] a3aw-5vDM2E: Downloading 1 format(s): 18\n",
      "[info] There are no subtitles for the requested languages\n",
      "[download] Destination: tmp/squats/videos/a3aw-5vDM2E.mp4\n",
      "[download] 100% of    1.74MiB in 00:00:00 at 2.04MiB/s   \n",
      "[youtube] Extracting URL: https://www.youtube.com/watch?v=byxWus7BwfQ\n",
      "[youtube] byxWus7BwfQ: Downloading webpage\n",
      "[youtube] byxWus7BwfQ: Downloading ios player API JSON\n",
      "[youtube] byxWus7BwfQ: Downloading android player API JSON\n",
      "[youtube] byxWus7BwfQ: Downloading m3u8 information\n"
     ]
    },
    {
     "name": "stderr",
     "output_type": "stream",
     "text": [
      "WARNING: [youtube] Failed to download m3u8 information: HTTP Error 429: Too Many Requests\n"
     ]
    },
    {
     "name": "stdout",
     "output_type": "stream",
     "text": [
      "[info] byxWus7BwfQ: Downloading subtitles: en\n",
      "[info] byxWus7BwfQ: Downloading 1 format(s): 18\n",
      "[info] Writing video subtitles to: tmp/squats/videos/byxWus7BwfQ.en.vtt\n",
      "[download] Destination: tmp/squats/videos/byxWus7BwfQ.en.vtt\n",
      "[download] 100% of   33.97KiB in 00:00:00 at 185.78KiB/s\n",
      "[download] Destination: tmp/squats/videos/byxWus7BwfQ.mp4\n",
      "[download] 100% of   11.12MiB in 00:00:02 at 4.27MiB/s   \n",
      "[MoveFiles] Moving file \"tmp/squats/videos/byxWus7BwfQ.en.vtt\" to \"tmp/squats/subs/byxWus7BwfQ.en.vtt\"\n",
      "[youtube] Extracting URL: https://www.youtube.com/watch?v=cRxg-PUAT6I\n",
      "[youtube] cRxg-PUAT6I: Downloading webpage\n",
      "[youtube] cRxg-PUAT6I: Downloading ios player API JSON\n",
      "[youtube] cRxg-PUAT6I: Downloading android player API JSON\n",
      "[youtube] cRxg-PUAT6I: Downloading m3u8 information\n"
     ]
    },
    {
     "name": "stderr",
     "output_type": "stream",
     "text": [
      "WARNING: [youtube] Failed to download m3u8 information: HTTP Error 429: Too Many Requests\n"
     ]
    },
    {
     "name": "stdout",
     "output_type": "stream",
     "text": [
      "[info] cRxg-PUAT6I: Downloading 1 format(s): 18\n",
      "[info] There are no subtitles for the requested languages\n",
      "[download] Destination: tmp/squats/videos/cRxg-PUAT6I.mp4\n",
      "[download] 100% of  503.08KiB in 00:00:01 at 317.08KiB/s \n",
      "[youtube] Extracting URL: https://www.youtube.com/watch?v=gslEzVggur8\n",
      "[youtube] gslEzVggur8: Downloading webpage\n",
      "[youtube] gslEzVggur8: Downloading ios player API JSON\n",
      "[youtube] gslEzVggur8: Downloading android player API JSON\n",
      "[youtube] gslEzVggur8: Downloading m3u8 information\n"
     ]
    },
    {
     "name": "stderr",
     "output_type": "stream",
     "text": [
      "WARNING: [youtube] Failed to download m3u8 information: HTTP Error 429: Too Many Requests\n"
     ]
    },
    {
     "name": "stdout",
     "output_type": "stream",
     "text": [
      "[info] gslEzVggur8: Downloading 1 format(s): 18\n",
      "[info] There are no subtitles for the requested languages\n",
      "[download] Destination: tmp/squats/videos/gslEzVggur8.mp4\n",
      "[download] 100% of    1.53MiB in 00:00:01 at 813.11KiB/s   \n",
      "[youtube] Extracting URL: https://www.youtube.com/watch?v=iZTxa8NJH2g\n",
      "[youtube] iZTxa8NJH2g: Downloading webpage\n",
      "[youtube] iZTxa8NJH2g: Downloading ios player API JSON\n",
      "[youtube] iZTxa8NJH2g: Downloading android player API JSON\n",
      "[youtube] iZTxa8NJH2g: Downloading m3u8 information\n"
     ]
    },
    {
     "name": "stderr",
     "output_type": "stream",
     "text": [
      "WARNING: [youtube] Failed to download m3u8 information: HTTP Error 429: Too Many Requests\n"
     ]
    },
    {
     "name": "stdout",
     "output_type": "stream",
     "text": [
      "[info] iZTxa8NJH2g: Downloading subtitles: en\n",
      "[info] iZTxa8NJH2g: Downloading 1 format(s): 18\n",
      "[info] Writing video subtitles to: tmp/squats/videos/iZTxa8NJH2g.en.vtt\n",
      "[download] Destination: tmp/squats/videos/iZTxa8NJH2g.en.vtt\n",
      "[download] 100% of    8.98KiB in 00:00:00 at 49.91KiB/s\n",
      "[download] Destination: tmp/squats/videos/iZTxa8NJH2g.mp4\n",
      "[download] 100% of    2.45MiB in 00:00:02 at 894.01KiB/s \n",
      "[MoveFiles] Moving file \"tmp/squats/videos/iZTxa8NJH2g.en.vtt\" to \"tmp/squats/subs/iZTxa8NJH2g.en.vtt\"\n",
      "[youtube] Extracting URL: https://www.youtube.com/watch?v=jhb_nnV29EU\n",
      "[youtube] jhb_nnV29EU: Downloading webpage\n",
      "[youtube] jhb_nnV29EU: Downloading ios player API JSON\n",
      "[youtube] jhb_nnV29EU: Downloading android player API JSON\n",
      "[youtube] jhb_nnV29EU: Downloading m3u8 information\n"
     ]
    },
    {
     "name": "stderr",
     "output_type": "stream",
     "text": [
      "WARNING: [youtube] Failed to download m3u8 information: HTTP Error 429: Too Many Requests\n"
     ]
    },
    {
     "name": "stdout",
     "output_type": "stream",
     "text": [
      "[info] jhb_nnV29EU: Downloading subtitles: en\n",
      "[info] jhb_nnV29EU: Downloading 1 format(s): 18\n",
      "[info] Writing video subtitles to: tmp/squats/videos/jhb_nnV29EU.en.vtt\n",
      "[download] Destination: tmp/squats/videos/jhb_nnV29EU.en.vtt\n",
      "[download] 100% of    2.46KiB in 00:00:00 at 7.82KiB/s\n",
      "[download] Destination: tmp/squats/videos/jhb_nnV29EU.mp4\n",
      "[download] 100% of    2.09MiB in 00:00:01 at 1.49MiB/s   \n",
      "[MoveFiles] Moving file \"tmp/squats/videos/jhb_nnV29EU.en.vtt\" to \"tmp/squats/subs/jhb_nnV29EU.en.vtt\"\n",
      "[youtube] Extracting URL: https://www.youtube.com/watch?v=my0tLDaWyDU\n",
      "[youtube] my0tLDaWyDU: Downloading webpage\n",
      "[youtube] my0tLDaWyDU: Downloading ios player API JSON\n",
      "[youtube] my0tLDaWyDU: Downloading android player API JSON\n",
      "[youtube] my0tLDaWyDU: Downloading m3u8 information\n"
     ]
    },
    {
     "name": "stderr",
     "output_type": "stream",
     "text": [
      "WARNING: [youtube] Failed to download m3u8 information: HTTP Error 429: Too Many Requests\n"
     ]
    },
    {
     "name": "stdout",
     "output_type": "stream",
     "text": [
      "[info] my0tLDaWyDU: Downloading subtitles: en\n",
      "[info] my0tLDaWyDU: Downloading 1 format(s): 18\n",
      "[info] Writing video subtitles to: tmp/squats/videos/my0tLDaWyDU.en.vtt\n",
      "[download] Destination: tmp/squats/videos/my0tLDaWyDU.en.vtt\n",
      "[download] 100% of   70.79KiB in 00:00:00 at 326.16KiB/s\n",
      "[download] Destination: tmp/squats/videos/my0tLDaWyDU.mp4\n",
      "[download] 100% of   16.91MiB in 00:00:03 at 5.60MiB/s     \n",
      "[MoveFiles] Moving file \"tmp/squats/videos/my0tLDaWyDU.en.vtt\" to \"tmp/squats/subs/my0tLDaWyDU.en.vtt\"\n",
      "[youtube] Extracting URL: https://www.youtube.com/watch?v=rhbIFJj4UYc\n",
      "[youtube] rhbIFJj4UYc: Downloading webpage\n",
      "[youtube] rhbIFJj4UYc: Downloading ios player API JSON\n",
      "[youtube] rhbIFJj4UYc: Downloading android player API JSON\n",
      "[youtube] rhbIFJj4UYc: Downloading m3u8 information\n"
     ]
    },
    {
     "name": "stderr",
     "output_type": "stream",
     "text": [
      "WARNING: [youtube] Failed to download m3u8 information: HTTP Error 429: Too Many Requests\n"
     ]
    },
    {
     "name": "stdout",
     "output_type": "stream",
     "text": [
      "[info] rhbIFJj4UYc: Downloading subtitles: en\n",
      "[info] rhbIFJj4UYc: Downloading 1 format(s): 18\n",
      "[info] Writing video subtitles to: tmp/squats/videos/rhbIFJj4UYc.en.vtt\n",
      "[download] Destination: tmp/squats/videos/rhbIFJj4UYc.en.vtt\n",
      "[download] 100% of   10.13KiB in 00:00:00 at 57.99KiB/s\n",
      "[download] Destination: tmp/squats/videos/rhbIFJj4UYc.mp4\n",
      "[download] 100% of    4.26MiB in 00:00:02 at 1.64MiB/s   \n",
      "[MoveFiles] Moving file \"tmp/squats/videos/rhbIFJj4UYc.en.vtt\" to \"tmp/squats/subs/rhbIFJj4UYc.en.vtt\"\n",
      "[youtube] Extracting URL: https://www.youtube.com/watch?v=w8ZhgecdIAM\n",
      "[youtube] w8ZhgecdIAM: Downloading webpage\n",
      "[youtube] w8ZhgecdIAM: Downloading ios player API JSON\n",
      "[youtube] w8ZhgecdIAM: Downloading android player API JSON\n",
      "[youtube] w8ZhgecdIAM: Downloading m3u8 information\n"
     ]
    },
    {
     "name": "stderr",
     "output_type": "stream",
     "text": [
      "WARNING: [youtube] Failed to download m3u8 information: HTTP Error 429: Too Many Requests\n"
     ]
    },
    {
     "name": "stdout",
     "output_type": "stream",
     "text": [
      "[info] w8ZhgecdIAM: Downloading subtitles: en\n",
      "[info] w8ZhgecdIAM: Downloading 1 format(s): 18\n",
      "[info] Writing video subtitles to: tmp/squats/videos/w8ZhgecdIAM.en.vtt\n",
      "[download] Destination: tmp/squats/videos/w8ZhgecdIAM.en.vtt\n",
      "[download] 100% of    497.00B in 00:00:00 at 3.14KiB/s\n",
      "[download] Destination: tmp/squats/videos/w8ZhgecdIAM.mp4\n",
      "[download] 100% of    1.86MiB in 00:00:01 at 1.63MiB/s   \n",
      "[MoveFiles] Moving file \"tmp/squats/videos/w8ZhgecdIAM.en.vtt\" to \"tmp/squats/subs/w8ZhgecdIAM.en.vtt\"\n",
      "[youtube] Extracting URL: https://www.youtube.com/watch?v=xawAf5fXD2c\n",
      "[youtube] xawAf5fXD2c: Downloading webpage\n",
      "[youtube] xawAf5fXD2c: Downloading ios player API JSON\n",
      "[youtube] xawAf5fXD2c: Downloading android player API JSON\n",
      "[youtube] xawAf5fXD2c: Downloading m3u8 information\n"
     ]
    },
    {
     "name": "stderr",
     "output_type": "stream",
     "text": [
      "WARNING: [youtube] Failed to download m3u8 information: HTTP Error 429: Too Many Requests\n"
     ]
    },
    {
     "name": "stdout",
     "output_type": "stream",
     "text": [
      "[info] xawAf5fXD2c: Downloading subtitles: en\n",
      "[info] xawAf5fXD2c: Downloading 1 format(s): 18\n",
      "[info] Writing video subtitles to: tmp/squats/videos/xawAf5fXD2c.en.vtt\n",
      "[download] Destination: tmp/squats/videos/xawAf5fXD2c.en.vtt\n",
      "[download] 100% of    999.00B in 00:00:00 at 5.77KiB/s\n",
      "[download] Destination: tmp/squats/videos/xawAf5fXD2c.mp4\n",
      "[download] 100% of    2.05MiB in 00:00:01 at 1.77MiB/s   \n",
      "[MoveFiles] Moving file \"tmp/squats/videos/xawAf5fXD2c.en.vtt\" to \"tmp/squats/subs/xawAf5fXD2c.en.vtt\"\n"
     ]
    }
   ],
   "source": [
    "from datagen.download_videos import download_videos\n",
    "download_videos(df['id'], config)"
   ]
  },
  {
   "cell_type": "markdown",
   "metadata": {},
   "source": [
    "## Detect segments from video and analyze them with gpt4o"
   ]
  },
  {
   "cell_type": "code",
   "execution_count": 5,
   "metadata": {},
   "outputs": [
    {
     "name": "stdout",
     "output_type": "stream",
     "text": [
      "byxWus7BwfQ\n",
      "OTyb4YUDYYY\n",
      "w8ZhgecdIAM\n",
      "T6id8FuUcao\n",
      "a3aw-5vDM2E\n",
      "AIZ8q1qruKw\n",
      "C73Y3EsJWIk\n",
      "EbOPpWi4L8s\n",
      "SLOkdLLWj8A\n",
      "EzvnMZuxGWw\n",
      "PJj5shV4uYo\n",
      "MM9ObaAPcv4\n",
      "HgDZlNQrifY\n",
      "LFkinX12jtU\n",
      "LF4zb2SYWjQ\n",
      "xawAf5fXD2c\n",
      "MLoZuAkIyZI\n",
      "TH6jSCGnowI\n",
      "HZilSL4ZNvQ\n",
      "gslEzVggur8\n",
      "cRxg-PUAT6I\n",
      "IB_icWRzi4E\n",
      "my0tLDaWyDU\n",
      "4KmY44Xsg2w\n",
      "rhbIFJj4UYc\n",
      "jhb_nnV29EU\n",
      "iZTxa8NJH2g\n",
      "PPmvh7gBTi0\n"
     ]
    }
   ],
   "source": [
    "from datagen.detect_segments import detect_segments\n",
    "\n",
    "from typing import Optional\n",
    "from langchain.pydantic_v1 import BaseModel, Field\n",
    "\n",
    "# This is the schema that we will extract from each detected segment that will be also used during annotation.\n",
    "# If you want the annotations to focus on the transcript, do not extract too much visual information here that might distract the LLM during annotation.\n",
    "# We will use \"doing_squats\" for filtering,\n",
    "# and overlay_text for annotation, although it might add noise.\n",
    "\n",
    "class SegmentInfo(BaseModel):\n",
    "    '''Information about a segment'''\n",
    "    doing_squats: bool = Field(description='Whether the person is doing squats. Only consider video of people, not renders or cartoons. If a person looks like they are preparing to do squats or standing between reps, consider them also doing squats if they are in a gym setting, wearing sportswear etc.')\n",
    "    overlay_text: str = Field(description='Overlay text that is superimprosed over the image, if present.')\n",
    "    # clothes: str = Field(description='Clothes of the person doing squats in detail.')\n",
    "    # image_description: str = Field(description=\"Describe the image in detail\")\n",
    "\n",
    "\n",
    "segments = []\n",
    "for video in config.get_videos():\n",
    "        print(video.stem)\n",
    "        segments.append(detect_segments(\n",
    "            video_id=video.stem,\n",
    "            segment_info_schema=SegmentInfo,\n",
    "            detection_algorithm=None, # default AdaptiveDetector algorithm is good for most types of video. https://www.scenedetect.com/docs/latest/api/detectors.html\n",
    "            min_duration=1, max_duration=60, # discard too long or too short segments to save some GPT calls\n",
    "            frames_per_segment=1, # how many frames per segment we will use for detection. More frames will be more accurate and capture more information (eg changing overlay text), but also longer and more expensive.\n",
    "            config=config))\n"
   ]
  },
  {
   "cell_type": "code",
   "execution_count": 7,
   "metadata": {},
   "outputs": [
    {
     "name": "stdout",
     "output_type": "stream",
     "text": [
      "      28\n"
     ]
    }
   ],
   "source": [
    "# 28 videos took 14.5 minutes w/1 frame/segment\n",
    "# about 30sec/video\n",
    "!ls tmp/squats/segments | wc -l"
   ]
  },
  {
   "cell_type": "markdown",
   "metadata": {},
   "source": [
    "## Annotate the segments from trascript + additional info"
   ]
  },
  {
   "cell_type": "code",
   "execution_count": 8,
   "metadata": {},
   "outputs": [
    {
     "name": "stdout",
     "output_type": "stream",
     "text": [
      "357\n",
      "227\n"
     ]
    },
    {
     "data": {
      "text/plain": [
       "Segment(start_timestamp='00:00:00.000', end_timestamp='00:00:02.800', fps=30.0, segment_info={'doing_squats': True, 'overlay_text': 'TOP THREE ONE LEGGED SQUATS'}, video_id='a3aw-5vDM2E')"
      ]
     },
     "execution_count": 8,
     "metadata": {},
     "output_type": "execute_result"
    }
   ],
   "source": [
    "segments = config.get_segments(info_type=SegmentInfo)\n",
    "print(len(segments))\n",
    "# we're only interested in segments where people do squats\n",
    "segments = [x for x in segments if x.segment_info['doing_squats']]\n",
    "print(len(segments))\n",
    "segments[0]"
   ]
  },
  {
   "cell_type": "code",
   "execution_count": 9,
   "metadata": {},
   "outputs": [],
   "source": [
    "from datagen.annotate import generate_annotations\n",
    "from langchain.pydantic_v1 import BaseModel, Field\n",
    "from typing import Optional\n",
    "\n",
    "# This schema will be detected for each segment.\n",
    "# This is the most important part for the annotation, and getting good results requires a lot of experimenting.\n",
    "\n",
    "class QA(BaseModel):\n",
    "    '''\n",
    "    Question and answer about a video segment.\n",
    "    Only write questions and answers about the correctness of the exercises or in which ways the performance in the video was wrong.\n",
    "    '''\n",
    "    question: str = Field(description='Question about the exercise performance in the video')\n",
    "    answer: str = Field(description='Answer about the exercise performance from a trainer.')\n",
    "    quote: str = Field(description='A direct and explicit quote from transcript or on-screen-text. The answer must be directly inferred from this quote.')\n",
    "\n",
    "    # Valid QA:\n",
    "    # - Was the exercise performed correctly? -No.\n",
    "    # - How can I improve my form? -Set your knees wider.\n",
    "    # Invalid QA:\n",
    "    # - Was the exercise perfomed correctly? -There is no information about that.\n",
    "    # - What is written on screen? - The word Hello is written on screen.\n",
    "\n",
    "class SegmentAnnotation(BaseModel):\n",
    "    '''\n",
    "    If there is information about whether the exercise was performed correctly or not, make a QA about it.\n",
    "    If the exercise was performed incorrectly, make one or more QA about in which ways it was performed incorrectly.\n",
    "    If it's not possible to infer whether the exercise was performed correctly, do not output a segment annotation.\n",
    "    Do not output any other kinds of questions and answers.\n",
    "    If no possible such QA could be generated from the explicit information in the transcript or on-screen text, do not output annotation for this segment.\n",
    "    Output at most one annotation per segment.\n",
    "    '''\n",
    "    correct: Optional[bool] = Field(description='Whether the exercise was performed correctly. If there is no information about that, do not output this field.')\n",
    "    incorrect_reasons: Optional[str] = Field(description='If the exercise was performed incorrectly, the reasons that were given about why was the performance was incorrect. If there is no information about that, do not output this field.')\n",
    "    qa: list[QA]\n",
    "\n",
    "annotations = generate_annotations(segments=segments, config=config, annotation_schema=SegmentAnnotation)\n"
   ]
  },
  {
   "cell_type": "code",
   "execution_count": 34,
   "metadata": {},
   "outputs": [
    {
     "name": "stdout",
     "output_type": "stream",
     "text": [
      "skipping AIZ8q1qruKw\n",
      "skipping iZTxa8NJH2g\n",
      "Total segments: 25\n"
     ]
    },
    {
     "data": {
      "text/plain": [
       "{'start_timestamp': '00:00:26.933',\n",
       " 'end_timestamp': '00:00:28.467',\n",
       " 'segment_annotation': {'correct': False,\n",
       "  'incorrect_reasons': 'Incorrect stance',\n",
       "  'qa': [{'question': 'Was the exercise performed correctly?',\n",
       "    'answer': 'No',\n",
       "    'quote': 'X, ✓'}]},\n",
       " 'video_id': 'OTyb4YUDYYY',\n",
       " 'id': 'OTyb4YUDYYY_0',\n",
       " 'video_path': 'OTyb4YUDYYY_0.mp4'}"
      ]
     },
     "execution_count": 34,
     "metadata": {},
     "output_type": "execute_result"
    }
   ],
   "source": [
    "from datagen.annotate import aggregate_annotations\n",
    "\n",
    "# here we filter the segments to only leave those that have correctness information and some QA\n",
    "filter_func = lambda seg: seg['correct'] is not None and len(seg['qa'])\n",
    "annotations = aggregate_annotations(config, filter_func=filter_func)\n",
    "print('Total segments:', len(annotations))\n",
    "annotations[0]"
   ]
  },
  {
   "cell_type": "code",
   "execution_count": 35,
   "metadata": {},
   "outputs": [],
   "source": [
    "import json\n",
    "with open(config.data_dir / 'annotations.json', 'w') as f:\n",
    "    json.dump(annotations, f)"
   ]
  },
  {
   "cell_type": "markdown",
   "metadata": {},
   "source": [
    "## The last step is to cut video clips for these segments from original videos"
   ]
  },
  {
   "cell_type": "code",
   "execution_count": 32,
   "metadata": {},
   "outputs": [
    {
     "name": "stderr",
     "output_type": "stream",
     "text": [
      "100%|██████████| 25/25 [00:22<00:00,  1.13it/s]\n"
     ]
    }
   ],
   "source": [
    "from datagen.cut_videos import cut_videos\n",
    "cut_videos(annotations, config=config)"
   ]
  },
  {
   "cell_type": "markdown",
   "metadata": {},
   "source": [
    "So as a result we generated:\n",
    "- `<data_dir>/clips/` with video clips that you can use for training\n",
    "- `<data_dir>/annotations.json` with list of items with fields:\n",
    "    - video_id: 11-char youtube video id (youtube.com/watch?v=<id>)\n",
    "    - start_timestamp/end_timestamp of the clip relative to the youtube video it's taken from\n",
    "    - video_path of the clip relative to `<data_dir>/clips/`\n",
    "    - segment_annotation that you can use for training"
   ]
  },
  {
   "cell_type": "code",
   "execution_count": null,
   "metadata": {},
   "outputs": [],
   "source": []
  }
 ],
 "metadata": {
  "kernelspec": {
   "display_name": "Python 3",
   "language": "python",
   "name": "python3"
  },
  "language_info": {
   "codemirror_mode": {
    "name": "ipython",
    "version": 3
   },
   "file_extension": ".py",
   "mimetype": "text/x-python",
   "name": "python",
   "nbconvert_exporter": "python",
   "pygments_lexer": "ipython3",
   "version": "3.11.5"
  }
 },
 "nbformat": 4,
 "nbformat_minor": 2
}
